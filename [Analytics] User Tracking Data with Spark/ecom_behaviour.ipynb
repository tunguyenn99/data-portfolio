{
 "cells": [
  {
   "cell_type": "markdown",
   "metadata": {},
   "source": [
    "## A. Import libraries & data"
   ]
  },
  {
   "cell_type": "code",
   "execution_count": 1,
   "metadata": {},
   "outputs": [],
   "source": [
    "from pyspark.sql import SparkSession\n",
    "from pyspark.sql.types import *\n",
    "from pyspark.sql import functions as F \n",
    "\n",
    "import pandas as pd \n",
    "import numpy as np \n",
    "import matplotlib.pyplot as plt\n",
    "import matplotlib.dates as mdates\n",
    "import seaborn as sns \n",
    "import plotly.express as px\n",
    "from plotly.subplots import make_subplots\n",
    "\n",
    "import time\n",
    "from tqdm import tqdm"
   ]
  },
  {
   "cell_type": "code",
   "execution_count": 2,
   "metadata": {},
   "outputs": [
    {
     "data": {
      "text/html": [
       "\n",
       "            <div>\n",
       "                <p><b>SparkSession - in-memory</b></p>\n",
       "                \n",
       "        <div>\n",
       "            <p><b>SparkContext</b></p>\n",
       "\n",
       "            <p><a href=\"http://DESKTOP-9UQ2F8C:4040\">Spark UI</a></p>\n",
       "\n",
       "            <dl>\n",
       "              <dt>Version</dt>\n",
       "                <dd><code>v3.5.1</code></dd>\n",
       "              <dt>Master</dt>\n",
       "                <dd><code>local[*]</code></dd>\n",
       "              <dt>AppName</dt>\n",
       "                <dd><code>myPySpark</code></dd>\n",
       "            </dl>\n",
       "        </div>\n",
       "        \n",
       "            </div>\n",
       "        "
      ],
      "text/plain": [
       "<pyspark.sql.session.SparkSession at 0x1bc25de2590>"
      ]
     },
     "execution_count": 2,
     "metadata": {},
     "output_type": "execute_result"
    }
   ],
   "source": [
    "spark = SparkSession.builder \\\n",
    "    .appName('myPySpark') \\\n",
    "    .config('spark.executor.memory', '4g') \\\n",
    "    .config('spark.executor.cores', '4') \\\n",
    "    .config('spark.driver.memory', '4g') \\\n",
    "    .getOrCreate()\n",
    "\n",
    "spark"
   ]
  },
  {
   "cell_type": "markdown",
   "metadata": {},
   "source": [
    "Use: http://localhost:4040/jobs/"
   ]
  },
  {
   "cell_type": "code",
   "execution_count": 4,
   "metadata": {},
   "outputs": [],
   "source": [
    "data_schema = StructType([\n",
    "    StructField(\"event_time\", TimestampType(), True),\n",
    "    StructField(\"event_type\", StringType(), True),\n",
    "    StructField(\"product_id\", StringType(), True),\n",
    "    StructField(\"category_id\", StringType(), True),\n",
    "    StructField(\"category_code\", StringType(), True),\n",
    "    StructField(\"brand\", StringType(), True),\n",
    "    StructField(\"price\", DoubleType(), True),\n",
    "    StructField(\"user_id\", StringType(), True),\n",
    "    StructField(\"user_session\", StringType(), True)\n",
    "])\n",
    "\n",
    "\n",
    "data_schema = StructType([\n",
    "    StructField('event_time',TimestampeType(), True)\n",
    "    ,    StructField('event_time',TimestampeType(), True)\n",
    "])"
   ]
  },
  {
   "cell_type": "code",
   "execution_count": 5,
   "metadata": {},
   "outputs": [],
   "source": [
    "df = spark.read.csv('2019-Nov.csv', header = True, schema = data_schema)"
   ]
  },
  {
   "cell_type": "code",
   "execution_count": 6,
   "metadata": {},
   "outputs": [
    {
     "name": "stdout",
     "output_type": "stream",
     "text": [
      "Time taken to cache the dataframe: 0.83 seconds\n",
      "Total number of records: 67501979\n"
     ]
    }
   ],
   "source": [
    "start_time = time.time()\n",
    "df.cache()\n",
    "end_time = time.time()\n",
    "print(f\"Time taken to cache the dataframe: {end_time - start_time:.2f} seconds\")\n",
    "print(f\"Total number of records: {df.count()}\")"
   ]
  },
  {
   "cell_type": "markdown",
   "metadata": {},
   "source": [
    "👆👆👆 such a huge dataset"
   ]
  },
  {
   "cell_type": "code",
   "execution_count": 7,
   "metadata": {},
   "outputs": [
    {
     "name": "stdout",
     "output_type": "stream",
     "text": [
      "+-------------------+----------+----------+-------------------+--------------------+--------+------+---------+--------------------+\n",
      "|         event_time|event_type|product_id|        category_id|       category_code|   brand| price|  user_id|        user_session|\n",
      "+-------------------+----------+----------+-------------------+--------------------+--------+------+---------+--------------------+\n",
      "|2019-11-01 07:00:00|      view|   1003461|2053013555631882655|electronics.smart...|  xiaomi|489.07|520088904|4d3b30da-a5e4-49d...|\n",
      "|2019-11-01 07:00:00|      view|   5000088|2053013566100866035|appliances.sewing...|  janome|293.65|530496790|8e5f4f83-366c-4f7...|\n",
      "|2019-11-01 07:00:01|      view|  17302664|2053013553853497655|                NULL|   creed| 28.31|561587266|755422e7-9040-477...|\n",
      "|2019-11-01 07:00:01|      view|   3601530|2053013563810775923|appliances.kitche...|      lg|712.87|518085591|3bfb58cd-7892-48c...|\n",
      "|2019-11-01 07:00:01|      view|   1004775|2053013555631882655|electronics.smart...|  xiaomi|183.27|558856683|313628f1-68b8-460...|\n",
      "|2019-11-01 07:00:01|      view|   1306894|2053013558920217191|  computers.notebook|      hp|360.09|520772685|816a59f3-f5ae-4cc...|\n",
      "|2019-11-01 07:00:01|      view|   1306421|2053013558920217191|  computers.notebook|      hp|514.56|514028527|df8184cc-3694-454...|\n",
      "|2019-11-01 07:00:02|      view|  15900065|2053013558190408249|                NULL| rondell| 30.86|518574284|5e6ef132-4d7c-473...|\n",
      "|2019-11-01 07:00:02|      view|  12708937|2053013553559896355|                NULL|michelin| 72.72|532364121|0a899268-31eb-46d...|\n",
      "|2019-11-01 07:00:02|      view|   1004258|2053013555631882655|electronics.smart...|   apple|732.07|532647354|d2d3d2c6-631d-489...|\n",
      "|2019-11-01 07:00:03|      view|  17200570|2053013559792632471|furniture.living_...|    NULL|437.33|518780843|aa806835-b14c-45a...|\n",
      "|2019-11-01 07:00:03|      view|   2701517|2053013563911439225|appliances.kitche...|    NULL|155.11|518427361|c89b0d96-247f-404...|\n",
      "|2019-11-01 07:00:03|      view|  16700260|2053013559901684381|furniture.kitchen...|    NULL| 31.64|566255262|173d7b72-1db7-463...|\n",
      "|2019-11-01 07:00:04|      view|  34600011|2060981320581906480|                NULL|    NULL| 20.54|512416379|4dfe2c67-e537-4dc...|\n",
      "|2019-11-01 07:00:05|      view|   4600658|2053013563944993659|appliances.kitche...| samsung|411.83|526595547|aab33a9a-29c3-4d5...|\n",
      "|2019-11-01 07:00:06|      view|  24900193|2053013562183385881|                NULL|    NULL|  1.09|512651494|f603c815-f51a-46f...|\n",
      "|2019-11-01 07:00:07|      view|  27400066|2053013563391345499|                NULL|    NULL|  8.55|551061950|3f6112f1-5695-4e8...|\n",
      "|2019-11-01 07:00:07|      view|   5100503|2053013553375346967|                NULL|  xiaomi| 22.68|520037415|f54fa96a-f3f2-43a...|\n",
      "|2019-11-01 07:00:07|      view|   1004566|2053013555631882655|electronics.smart...|  huawei|164.84|566265908|52c2c76c-b79e-479...|\n",
      "|2019-11-01 07:00:08|      view|   1307115|2053013558920217191|  computers.notebook|      hp|411.59|514028527|df8184cc-3694-454...|\n",
      "+-------------------+----------+----------+-------------------+--------------------+--------+------+---------+--------------------+\n",
      "only showing top 20 rows\n",
      "\n"
     ]
    }
   ],
   "source": [
    "df.show()"
   ]
  },
  {
   "cell_type": "code",
   "execution_count": 8,
   "metadata": {},
   "outputs": [
    {
     "name": "stdout",
     "output_type": "stream",
     "text": [
      "root\n",
      " |-- event_time: timestamp (nullable = true)\n",
      " |-- event_type: string (nullable = true)\n",
      " |-- product_id: string (nullable = true)\n",
      " |-- category_id: string (nullable = true)\n",
      " |-- category_code: string (nullable = true)\n",
      " |-- brand: string (nullable = true)\n",
      " |-- price: double (nullable = true)\n",
      " |-- user_id: string (nullable = true)\n",
      " |-- user_session: string (nullable = true)\n",
      "\n"
     ]
    }
   ],
   "source": [
    "df.printSchema()"
   ]
  },
  {
   "cell_type": "markdown",
   "metadata": {},
   "source": [
    "## B. Data Normalization"
   ]
  },
  {
   "cell_type": "markdown",
   "metadata": {},
   "source": [
    "### I. Principles"
   ]
  },
  {
   "cell_type": "markdown",
   "metadata": {},
   "source": [
    "Based on the dataset, I would like to separate the dataset into different Normal Forms\n",
    "#### 1. First Normal Form (1NF):  \n",
    "<b> Definition: </b> A table is in 1NF if it contains only atomic (indivisible) values, and each column contains values of a single type."
   ]
  },
  {
   "cell_type": "markdown",
   "metadata": {
    "vscode": {
     "languageId": "raw"
    }
   },
   "source": [
    "Table: Events\n",
    "\n",
    "| event_time          | event_type        | product_id  | category_id  | category_code         | brand    | price   | user_id   | user_session                         |\n",
    "|---------------------|-------------------|-------------|--------------|-----------------------|----------|---------|-----------|--------------------------------------|\n",
    "| 2019-11-01 00:00:00 | view              | 1003461     | 2053013555   | electronics.smartphone | xiaomi   | 489.07  | 520088904 | 4d3b30da-a5e4-49df-b1a8-ba5943f1dd33 |\n",
    "| 2019-11-01 00:00:00 | view              | 5000088     | 2053013566   | appliances.sewing_machine | janome  | 293.65  | 530496790 | 8e5f4f83-366c-4f70-860e-ca7417414283 |\n",
    "...\n"
   ]
  },
  {
   "cell_type": "markdown",
   "metadata": {},
   "source": [
    "#### 2. Second Normal Form (2NF):\n",
    "<b>Definition: </b> A table is in 2NF if it is in 1NF and all non-key attributes are fully functional dependent on the primary key.\n",
    "\n",
    "To achieve 2NF, I need to ensure that each non-key attribute is fully dependent on the primary key. For this dataset, I can break down the Events table into smaller tables to remove partial dependencies."
   ]
  },
  {
   "cell_type": "markdown",
   "metadata": {},
   "source": [
    "1/ Table: Events\n",
    "| event_time          | event_type | product_id  | user_id   | user_session                         |\n",
    "|---------------------|------------|-------------|-----------|--------------------------------------|\n",
    "| 2019-11-01 00:00:00 | view       | 1003461     | 520088904 | 4d3b30da-a5e4-49df-b1a8-ba5943f1dd33 |\n",
    "| 2019-11-01 00:00:00 | view       | 5000088     | 530496790 | 8e5f4f83-366c-4f70-860e-ca7417414283 |\n",
    "...\n",
    "\n",
    "\n",
    "2/ Table: Products\n",
    "| product_id  | category_id  | category_code         | brand    | price   |\n",
    "|-------------|--------------|-----------------------|----------|---------|\n",
    "| 1003461     | 2053013555   | electronics.smartphone | xiaomi   | 489.07  |\n",
    "| 5000088     | 2053013566   | appliances.sewing_machine | janome  | 293.65  |\n",
    "...\n",
    "\n",
    "3/ Table: Categories\n",
    "| category_id  | category_code         |\n",
    "|--------------|-----------------------|\n",
    "| 2053013555   | electronics.smartphone |\n",
    "| 2053013566   | appliances.sewing_machine |\n",
    "...\n"
   ]
  },
  {
   "cell_type": "markdown",
   "metadata": {},
   "source": [
    "#### 3. Third Normal Form (3NF)\n",
    "<b>Definition:</b> A table is in 3NF if it is in 2NF and all the attributes are functionally dependent only on the primary key.\n",
    "\n",
    "To achieve 3NF, I remove transitive dependencies. For example, the category_code can be moved to a separate Categories table as shown above. I already separated Products and Categories in 2NF, so I might only need to check if further decomposition is necessary."
   ]
  },
  {
   "cell_type": "markdown",
   "metadata": {},
   "source": [
    "1/ Table: Events\n",
    "| event_time          | event_type | product_id  | user_session                         |\n",
    "|---------------------|------------|-------------|--------------------------------------|\n",
    "| 2019-11-01 00:00:00 | view       | 1003461     | 4d3b30da-a5e4-49df-b1a8-ba5943f1dd33 |\n",
    "| 2019-11-01 00:00:00 | view       | 5000088     | 8e5f4f83-366c-4f70-860e-ca7417414283 |\n",
    "...\n",
    "\n",
    "2/ Table: Products\n",
    "| product_id  | category_id  | brand    | price   |\n",
    "|-------------|--------------|----------|---------|\n",
    "| 1003461     | 2053013555   | xiaomi   | 489.07  |\n",
    "| 5000088     | 2053013566   | janome   | 293.65  |\n",
    "...\n",
    "\n",
    "\n",
    "3/ Table: Categories\n",
    "| category_id  | category_code         |\n",
    "|--------------|-----------------------|\n",
    "| 2053013555   | electronics.smartphone |\n",
    "| 2053013566   | appliances.sewing_machine |\n",
    "...\n",
    "\n",
    "\n",
    "4/ Table: Users\n",
    "| user_id   | user_session                         |\n",
    "|-----------|--------------------------------------|\n",
    "| 520088904 | 4d3b30da-a5e4-49df-b1a8-ba5943f1dd33 |\n",
    "| 530496790 | 8e5f4f83-366c-4f70-860e-ca7417414283 |\n",
    "...\n"
   ]
  },
  {
   "cell_type": "markdown",
   "metadata": {},
   "source": [
    "### II. Normalization"
   ]
  },
  {
   "cell_type": "code",
   "execution_count": 9,
   "metadata": {},
   "outputs": [],
   "source": [
    "events = df.select(['event_time','event_type','product_id' ,'user_session']).dropDuplicates()\n",
    "products = df.select(['product_id','category_id' ,'brand' ,'price']).dropDuplicates()\n",
    "categories = df.select(['category_id', 'category_code']).dropDuplicates()\n",
    "users = df.select(['user_id','user_session']).dropDuplicates()"
   ]
  },
  {
   "cell_type": "code",
   "execution_count": 10,
   "metadata": {},
   "outputs": [],
   "source": [
    "#Create a table for SQL statement\n",
    "products.createOrReplaceTempView(\"products_view\")"
   ]
  },
  {
   "cell_type": "code",
   "execution_count": 11,
   "metadata": {},
   "outputs": [
    {
     "name": "stdout",
     "output_type": "stream",
     "text": [
      "+----------+--------------------+\n",
      "|product_id|distinct_price_value|\n",
      "+----------+--------------------+\n",
      "|   3200376|                   7|\n",
      "|   4200507|                   3|\n",
      "|  12701113|                   2|\n",
      "|   1005171|                  80|\n",
      "|  11700020|                   2|\n",
      "|   2602206|                   5|\n",
      "|   8500452|                  16|\n",
      "|   4500623|                   6|\n",
      "|  14000352|                   4|\n",
      "|  18001540|                   2|\n",
      "|   5200095|                   5|\n",
      "|  38400008|                   3|\n",
      "|  11900389|                   2|\n",
      "|   5100417|                  12|\n",
      "|  27600165|                   2|\n",
      "|   4802182|                   4|\n",
      "|  11700175|                   3|\n",
      "|  34200102|                   3|\n",
      "|  14701738|                   3|\n",
      "|   3600912|                   3|\n",
      "+----------+--------------------+\n",
      "only showing top 20 rows\n",
      "\n"
     ]
    }
   ],
   "source": [
    "spark.sql(\"\"\"\n",
    "SELECT \n",
    "    product_id\n",
    "    ,COUNT(DISTINCT price) as distinct_price_value\n",
    "FROM products_view\n",
    "GROUP BY product_id\n",
    "HAVING COUNT(DISTINCT price) > 1\n",
    "\"\"\").show()"
   ]
  },
  {
   "cell_type": "code",
   "execution_count": 12,
   "metadata": {},
   "outputs": [],
   "source": [
    "#Remove table's cache\n",
    "spark.catalog.uncacheTable('products_view')"
   ]
  },
  {
   "cell_type": "markdown",
   "metadata": {},
   "source": [
    "The reason for some product_ids have many price values is fluctuation of price during the timespan. The company had to adjust the price to be more competitive with the competitors.   \n",
    "So I would like to normalize the products table again. And the price might be unique in a single user_session."
   ]
  },
  {
   "cell_type": "code",
   "execution_count": 13,
   "metadata": {},
   "outputs": [],
   "source": [
    "products = df.select(['product_id','category_id' ,'brand' ,'price', 'user_session']).dropDuplicates()"
   ]
  },
  {
   "cell_type": "code",
   "execution_count": 14,
   "metadata": {},
   "outputs": [
    {
     "name": "stdout",
     "output_type": "stream",
     "text": [
      "+-------------------+----------+----------+--------------------+\n",
      "|         event_time|event_type|product_id|        user_session|\n",
      "+-------------------+----------+----------+--------------------+\n",
      "|2019-11-01 07:00:42|      view|  12720155|f7e8ffaa-5103-47f...|\n",
      "|2019-11-01 07:00:55|      view|   1307519|e1e8125d-da26-49e...|\n",
      "|2019-11-01 07:02:56|      view|   1801881|4d76d6d3-fff5-488...|\n",
      "+-------------------+----------+----------+--------------------+\n",
      "only showing top 3 rows\n",
      "\n"
     ]
    }
   ],
   "source": [
    "events.show(3)"
   ]
  },
  {
   "cell_type": "code",
   "execution_count": 15,
   "metadata": {},
   "outputs": [
    {
     "name": "stdout",
     "output_type": "stream",
     "text": [
      "+----------+-------------------+-------+------+--------------------+\n",
      "|product_id|        category_id|  brand| price|        user_session|\n",
      "+----------+-------------------+-------+------+--------------------+\n",
      "|   1003317|2053013555631882655|  apple|928.18|d2d3d2c6-631d-489...|\n",
      "|  26400273|2053013563651392361|lucente|224.46|3dc250b7-9bd1-4c9...|\n",
      "|   1005211|2053013555631882655|samsung|193.26|3aa2b23a-a633-441...|\n",
      "+----------+-------------------+-------+------+--------------------+\n",
      "only showing top 3 rows\n",
      "\n"
     ]
    }
   ],
   "source": [
    "products.show(3)"
   ]
  },
  {
   "cell_type": "code",
   "execution_count": 16,
   "metadata": {},
   "outputs": [
    {
     "name": "stdout",
     "output_type": "stream",
     "text": [
      "+-------------------+------------------+\n",
      "|        category_id|     category_code|\n",
      "+-------------------+------------------+\n",
      "|2097815753423061045|    apparel.tshirt|\n",
      "|2053013566277026813|      apparel.belt|\n",
      "|2053013565069067197|apparel.shoes.keds|\n",
      "+-------------------+------------------+\n",
      "only showing top 3 rows\n",
      "\n"
     ]
    }
   ],
   "source": [
    "categories.show(3)"
   ]
  },
  {
   "cell_type": "code",
   "execution_count": 17,
   "metadata": {},
   "outputs": [
    {
     "name": "stdout",
     "output_type": "stream",
     "text": [
      "+---------+--------------------+\n",
      "|  user_id|        user_session|\n",
      "+---------+--------------------+\n",
      "|520772685|816a59f3-f5ae-4cc...|\n",
      "|513200477|742aba02-727b-4d1...|\n",
      "|553802615|e09684bb-0c95-4f6...|\n",
      "+---------+--------------------+\n",
      "only showing top 3 rows\n",
      "\n"
     ]
    }
   ],
   "source": [
    "users.show(3)"
   ]
  },
  {
   "cell_type": "markdown",
   "metadata": {},
   "source": [
    "### III. Save to MSSQLSV"
   ]
  },
  {
   "cell_type": "code",
   "execution_count": 30,
   "metadata": {},
   "outputs": [],
   "source": [
    "#set variable to be used to connect the database\n",
    "database = 'tu_local_db'\n",
    "user = 'tulinh'\n",
    "password  = '******'\n",
    "service = 'localhost'\n",
    "port = '1433'\n",
    "jdbc_url = f'jdbc:sqlserver://{service}:{port};databaseName={database};encrypt=true;trustServerCertificate=true'\n",
    "jdbc_driver = 'com.microsoft.sqlserver.jdbc.SQLServerDriver'\n",
    "\n",
    "#write the dataframe into a sql table\n",
    "users.write.mode('overwrite') \\\n",
    "    .format('jdbc') \\\n",
    "    .option('url', jdbc_url) \\\n",
    "    .option('dbtable', 'dbo.users') \\\n",
    "    .option('user', user) \\\n",
    "    .option('password', password) \\\n",
    "    .option('driver', jdbc_driver) \\\n",
    "    .save()\n",
    "\n",
    "categories.write.mode('overwrite') \\\n",
    "    .format('jdbc') \\\n",
    "    .option('url', jdbc_url) \\\n",
    "    .option('dbtable', 'dbo.categories') \\\n",
    "    .option('user', user) \\\n",
    "    .option('password', password) \\\n",
    "    .option('driver', jdbc_driver) \\\n",
    "    .save()\n",
    "\n",
    "products.write.mode('overwrite') \\\n",
    "    .format('jdbc') \\\n",
    "    .option('url', jdbc_url) \\\n",
    "    .option('dbtable', 'dbo.products') \\\n",
    "    .option('user', user) \\\n",
    "    .option('password', password) \\\n",
    "    .option('driver', jdbc_driver) \\\n",
    "    .save()\n",
    "\n",
    "events.write.mode('overwrite') \\\n",
    "    .format('jdbc') \\\n",
    "    .option('url', jdbc_url) \\\n",
    "    .option('dbtable', 'dbo.events') \\\n",
    "    .option('user', user) \\\n",
    "    .option('password', password) \\\n",
    "    .option('driver', jdbc_driver) \\\n",
    "    .save()"
   ]
  },
  {
   "cell_type": "markdown",
   "metadata": {},
   "source": [
    "The output as below 👌"
   ]
  },
  {
   "cell_type": "code",
   "execution_count": 2,
   "metadata": {},
   "outputs": [
    {
     "data": {
      "image/png": "[encoded data removed]",
      "text/plain": [
       "<IPython.core.display.Image object>"
      ]
     },
     "execution_count": 2,
     "metadata": {},
     "output_type": "execute_result"
    }
   ],
   "source": [
    "from IPython.display import Image\n",
    "Image(filename='sample-output.png')"
   ]
  },
  {
   "cell_type": "code",
   "execution_count": null,
   "metadata": {},
   "outputs": [],
   "source": [
    "# spark.close()"
   ]
  },
  {
   "cell_type": "markdown",
   "metadata": {},
   "source": [
    "## C. Further Analysis"
   ]
  },
  {
   "cell_type": "code",
   "execution_count": null,
   "metadata": {},
   "outputs": [],
   "source": [
    "df = df.withColumn('event_date', F.to_date(df['event_time']))"
   ]
  },
  {
   "cell_type": "code",
   "execution_count": null,
   "metadata": {},
   "outputs": [
    {
     "name": "stdout",
     "output_type": "stream",
     "text": [
      "+-------------------+----------+----------+-------------------+--------------------+------+------+---------+--------------------+----------+\n",
      "|         event_time|event_type|product_id|        category_id|       category_code| brand| price|  user_id|        user_session|event_date|\n",
      "+-------------------+----------+----------+-------------------+--------------------+------+------+---------+--------------------+----------+\n",
      "|2019-11-01 07:00:00|      view|   1003461|2053013555631882655|electronics.smart...|xiaomi|489.07|520088904|4d3b30da-a5e4-49d...|2019-11-01|\n",
      "|2019-11-01 07:00:00|      view|   5000088|2053013566100866035|appliances.sewing...|janome|293.65|530496790|8e5f4f83-366c-4f7...|2019-11-01|\n",
      "|2019-11-01 07:00:01|      view|  17302664|2053013553853497655|                NULL| creed| 28.31|561587266|755422e7-9040-477...|2019-11-01|\n",
      "+-------------------+----------+----------+-------------------+--------------------+------+------+---------+--------------------+----------+\n",
      "only showing top 3 rows\n",
      "\n"
     ]
    }
   ],
   "source": [
    "df.show(3)"
   ]
  },
  {
   "cell_type": "code",
   "execution_count": null,
   "metadata": {},
   "outputs": [
    {
     "name": "stdout",
     "output_type": "stream",
     "text": [
      "+----------+\n",
      "|event_type|\n",
      "+----------+\n",
      "|  purchase|\n",
      "|      view|\n",
      "|      cart|\n",
      "+----------+\n",
      "\n"
     ]
    }
   ],
   "source": [
    "df.select(['event_type']).dropDuplicates().show(3)"
   ]
  },
  {
   "cell_type": "code",
   "execution_count": null,
   "metadata": {},
   "outputs": [
    {
     "name": "stdout",
     "output_type": "stream",
     "text": [
      "+----------+----------+-------------+-----------+\n",
      "|event_date|event_type|session_count|event_count|\n",
      "+----------+----------+-------------+-----------+\n",
      "|2019-11-17|      view|      6347489|    6347489|\n",
      "|2019-11-16|      view|      6102759|    6102759|\n",
      "|2019-11-15|      view|      5536508|    5536508|\n",
      "|2019-11-14|      view|      2198544|    2198544|\n",
      "|2019-11-18|      view|      2192070|    2192070|\n",
      "+----------+----------+-------------+-----------+\n",
      "only showing top 5 rows\n",
      "\n"
     ]
    }
   ],
   "source": [
    "# Calculate the number of events per day\n",
    "events_per_day = df.groupBy(['event_date','event_type']).agg(\n",
    "    F.count('user_session').alias('session_count')\n",
    "    ,F.count('event_type').alias('event_count')\n",
    ").orderBy(F.desc('event_count'))\n",
    "\n",
    "# count().orderBy('event_date')\n",
    "events_per_day.show(5)"
   ]
  },
  {
   "cell_type": "code",
   "execution_count": null,
   "metadata": {},
   "outputs": [
    {
     "name": "stdout",
     "output_type": "stream",
     "text": [
      "+----------+------------------+\n",
      "|event_date|     total_revenue|\n",
      "+----------+------------------+\n",
      "|2019-11-01| 5986270.709999872|\n",
      "|2019-11-02|6421346.3999999575|\n",
      "|2019-11-03| 6374722.729999999|\n",
      "|2019-11-04| 8124310.640000036|\n",
      "|2019-11-05| 7360248.350000051|\n",
      "+----------+------------------+\n",
      "only showing top 5 rows\n",
      "\n"
     ]
    }
   ],
   "source": [
    "# Calculate the total revenue per day\n",
    "revenue_per_day = df.filter(df['event_type'] == 'purchase').groupBy('event_date').agg(F.sum('price').alias('total_revenue')).orderBy('event_date')\n",
    "revenue_per_day.show(5)"
   ]
  },
  {
   "cell_type": "code",
   "execution_count": null,
   "metadata": {},
   "outputs": [
    {
     "data": {
      "text/plain": [
       "DataFrame[event_date: date, total_revenue: double]"
      ]
     },
     "execution_count": 10,
     "metadata": {},
     "output_type": "execute_result"
    }
   ],
   "source": [
    "#Cache for faster reusability\n",
    "events_per_day.cache()\n",
    "revenue_per_day.cache()"
   ]
  },
  {
   "cell_type": "code",
   "execution_count": null,
   "metadata": {},
   "outputs": [],
   "source": [
    "#Cast as Pandas Dataframe\n",
    "events_per_day_pd = events_per_day.toPandas()\n",
    "revenue_per_day_pd = revenue_per_day.toPandas()"
   ]
  },
  {
   "cell_type": "code",
   "execution_count": null,
   "metadata": {},
   "outputs": [
    {
     "data": {
      "text/plain": [
       "DataFrame[event_date: date, total_revenue: double]"
      ]
     },
     "execution_count": 12,
     "metadata": {},
     "output_type": "execute_result"
    }
   ],
   "source": [
    "#Remove cache\n",
    "events_per_day.unpersist()\n",
    "revenue_per_day.unpersist()"
   ]
  },
  {
   "cell_type": "code",
   "execution_count": null,
   "metadata": {},
   "outputs": [],
   "source": [
    "events_per_day_pd['event_date'] = events_per_day_pd['event_date'].astype('datetime64[ns]')\n",
    "revenue_per_day_pd['event_date'] = revenue_per_day_pd['event_date'].astype('datetime64[ns]')"
   ]
  },
  {
   "cell_type": "code",
   "execution_count": null,
   "metadata": {},
   "outputs": [
    {
     "data": {
      "text/html": [
       "<div>\n",
       "<style scoped>\n",
       "    .dataframe tbody tr th:only-of-type {\n",
       "        vertical-align: middle;\n",
       "    }\n",
       "\n",
       "    .dataframe tbody tr th {\n",
       "        vertical-align: top;\n",
       "    }\n",
       "\n",
       "    .dataframe thead th {\n",
       "        text-align: right;\n",
       "    }\n",
       "</style>\n",
       "<table border=\"1\" class=\"dataframe\">\n",
       "  <thead>\n",
       "    <tr style=\"text-align: right;\">\n",
       "      <th></th>\n",
       "      <th>event_date</th>\n",
       "      <th>event_type</th>\n",
       "      <th>session_count</th>\n",
       "      <th>event_count</th>\n",
       "    </tr>\n",
       "  </thead>\n",
       "  <tbody>\n",
       "    <tr>\n",
       "      <th>0</th>\n",
       "      <td>2019-11-17</td>\n",
       "      <td>view</td>\n",
       "      <td>6347489</td>\n",
       "      <td>6347489</td>\n",
       "    </tr>\n",
       "    <tr>\n",
       "      <th>1</th>\n",
       "      <td>2019-11-16</td>\n",
       "      <td>view</td>\n",
       "      <td>6102759</td>\n",
       "      <td>6102759</td>\n",
       "    </tr>\n",
       "    <tr>\n",
       "      <th>2</th>\n",
       "      <td>2019-11-15</td>\n",
       "      <td>view</td>\n",
       "      <td>5536508</td>\n",
       "      <td>5536508</td>\n",
       "    </tr>\n",
       "    <tr>\n",
       "      <th>3</th>\n",
       "      <td>2019-11-14</td>\n",
       "      <td>view</td>\n",
       "      <td>2198544</td>\n",
       "      <td>2198544</td>\n",
       "    </tr>\n",
       "    <tr>\n",
       "      <th>4</th>\n",
       "      <td>2019-11-18</td>\n",
       "      <td>view</td>\n",
       "      <td>2192070</td>\n",
       "      <td>2192070</td>\n",
       "    </tr>\n",
       "  </tbody>\n",
       "</table>\n",
       "</div>"
      ],
      "text/plain": [
       "  event_date event_type  session_count  event_count\n",
       "0 2019-11-17       view        6347489      6347489\n",
       "1 2019-11-16       view        6102759      6102759\n",
       "2 2019-11-15       view        5536508      5536508\n",
       "3 2019-11-14       view        2198544      2198544\n",
       "4 2019-11-18       view        2192070      2192070"
      ]
     },
     "execution_count": 14,
     "metadata": {},
     "output_type": "execute_result"
    }
   ],
   "source": [
    "events_per_day_pd.head()"
   ]
  },
  {
   "cell_type": "markdown",
   "metadata": {},
   "source": [
    "### I. Sales Trend"
   ]
  },
  {
   "cell_type": "code",
   "execution_count": null,
   "metadata": {},
   "outputs": [
    {
     "name": "stderr",
     "output_type": "stream",
     "text": [
      "C:\\Users\\TuNguyen\\AppData\\Local\\Temp\\ipykernel_968\\742392260.py:29: UserWarning: FigureCanvasAgg is non-interactive, and thus cannot be shown\n",
      "  fig.show()\n"
     ]
    },
    {
     "data": {
      "image/png": "[encoded data removed]",
      "text/plain": [
       "<Figure size 2000x600 with 2 Axes>"
      ]
     },
     "metadata": {},
     "output_type": "display_data"
    }
   ],
   "source": [
    "events_per_day_pd['event_date'] = events_per_day_pd['event_date'].astype('str')\n",
    "events_pivot = events_per_day_pd.pivot(index='event_date'\n",
    "                                       , columns='event_type'\n",
    "                                       , values='event_count').fillna(0)\n",
    "\n",
    "fig, (ax1, ax2) = plt.subplots(1, 2, figsize=(20, 6))\n",
    "\n",
    "events_pivot.plot(kind='bar', stacked=True, color=['#66c2a5', '#fc8d62', '#8da0cb'], ax = ax1)\n",
    "# ax1.xaxis.set_major_formatter(mdates.DateFormatter('%Y-%m-%d'))\n",
    "# ax1.xaxis.set_major_locator(mdates.DayLocator())\n",
    "ax1.set_xlabel('Date')\n",
    "ax1.set_ylabel('No of Events')\n",
    "ax1.set_title('No of Events per Day')\n",
    "ax1.legend(title='Event Type')\n",
    "plt.setp(ax1.get_xticklabels(), rotation=45, ha='right')\n",
    "\n",
    "sns.lineplot(data=revenue_per_day_pd\n",
    "             , x='event_date'\n",
    "             , y='total_revenue'\n",
    "             , color = '#e78ac3'\n",
    "             , ax = ax2)\n",
    "\n",
    "ax2.set_xlabel('Date')\n",
    "ax2.set_ylabel('Revenue')\n",
    "ax2.set_title('Revenue per Day')\n",
    "plt.setp(ax2.get_xticklabels(), rotation=45, ha='right')\n",
    "\n",
    "fig.tight_layout()\n",
    "fig.show()"
   ]
  },
  {
   "cell_type": "markdown",
   "metadata": {},
   "source": [
    "The company registered the highest revenue in The company registered its highest revenue on November 17th, exceeding $50 million. This peak can be attributed to a significant increase in customer journey activities, such as views and cart additions, which surged approximately 2-3 days prior to this date.\n",
    "\n",
    "Analyzing the data, it's evident that November 17, 2019, marked a revenue peak for the company. This spike in sales is closely linked to elevated customer engagement metrics, with noticeable upticks in website views and items added to carts occurring a few days beforehand. These heightened pre-purchase activities likely fueled the record-breaking revenue on November 17th."
   ]
  },
  {
   "cell_type": "markdown",
   "metadata": {},
   "source": [
    "### II. Cohort Analysis"
   ]
  },
  {
   "cell_type": "code",
   "execution_count": null,
   "metadata": {},
   "outputs": [],
   "source": [
    "purchase_df = df.filter(df['event_type'] == 'purchase')"
   ]
  },
  {
   "cell_type": "code",
   "execution_count": null,
   "metadata": {},
   "outputs": [
    {
     "data": {
      "text/html": [
       "<div>\n",
       "<style scoped>\n",
       "    .dataframe tbody tr th:only-of-type {\n",
       "        vertical-align: middle;\n",
       "    }\n",
       "\n",
       "    .dataframe tbody tr th {\n",
       "        vertical-align: top;\n",
       "    }\n",
       "\n",
       "    .dataframe thead th {\n",
       "        text-align: right;\n",
       "    }\n",
       "</style>\n",
       "<table border=\"1\" class=\"dataframe\">\n",
       "  <thead>\n",
       "    <tr style=\"text-align: right;\">\n",
       "      <th></th>\n",
       "      <th>event_time</th>\n",
       "      <th>event_type</th>\n",
       "      <th>product_id</th>\n",
       "      <th>category_id</th>\n",
       "      <th>category_code</th>\n",
       "      <th>brand</th>\n",
       "      <th>price</th>\n",
       "      <th>user_id</th>\n",
       "      <th>user_session</th>\n",
       "      <th>event_date</th>\n",
       "    </tr>\n",
       "  </thead>\n",
       "  <tbody>\n",
       "    <tr>\n",
       "      <th>0</th>\n",
       "      <td>2019-11-01 07:00:41</td>\n",
       "      <td>purchase</td>\n",
       "      <td>13200605</td>\n",
       "      <td>2053013557192163841</td>\n",
       "      <td>furniture.bedroom.bed</td>\n",
       "      <td>None</td>\n",
       "      <td>566.30</td>\n",
       "      <td>559368633</td>\n",
       "      <td>d6034fa2-41fb-4ac0-9051-55ea9fc9147a</td>\n",
       "      <td>2019-11-01</td>\n",
       "    </tr>\n",
       "    <tr>\n",
       "      <th>1</th>\n",
       "      <td>2019-11-01 07:01:04</td>\n",
       "      <td>purchase</td>\n",
       "      <td>1005161</td>\n",
       "      <td>2053013555631882655</td>\n",
       "      <td>electronics.smartphone</td>\n",
       "      <td>xiaomi</td>\n",
       "      <td>211.92</td>\n",
       "      <td>513351129</td>\n",
       "      <td>e6b7ce9b-1938-4e20-976c-8b4163aea11d</td>\n",
       "      <td>2019-11-01</td>\n",
       "    </tr>\n",
       "    <tr>\n",
       "      <th>2</th>\n",
       "      <td>2019-11-01 07:04:51</td>\n",
       "      <td>purchase</td>\n",
       "      <td>1004856</td>\n",
       "      <td>2053013555631882655</td>\n",
       "      <td>electronics.smartphone</td>\n",
       "      <td>samsung</td>\n",
       "      <td>128.42</td>\n",
       "      <td>562958505</td>\n",
       "      <td>0f039697-fedc-40fa-8830-39c1a024351d</td>\n",
       "      <td>2019-11-01</td>\n",
       "    </tr>\n",
       "    <tr>\n",
       "      <th>3</th>\n",
       "      <td>2019-11-01 07:05:34</td>\n",
       "      <td>purchase</td>\n",
       "      <td>26401669</td>\n",
       "      <td>2053013563651392361</td>\n",
       "      <td>None</td>\n",
       "      <td>lucente</td>\n",
       "      <td>109.66</td>\n",
       "      <td>541854711</td>\n",
       "      <td>c41c44d5-ef9b-41b9-9cd6-8d96dda6e927</td>\n",
       "      <td>2019-11-01</td>\n",
       "    </tr>\n",
       "    <tr>\n",
       "      <th>4</th>\n",
       "      <td>2019-11-01 07:06:33</td>\n",
       "      <td>purchase</td>\n",
       "      <td>1801881</td>\n",
       "      <td>2053013554415534427</td>\n",
       "      <td>electronics.video.tv</td>\n",
       "      <td>samsung</td>\n",
       "      <td>488.80</td>\n",
       "      <td>557746614</td>\n",
       "      <td>4d76d6d3-fff5-4880-8327-e9e57b618e0e</td>\n",
       "      <td>2019-11-01</td>\n",
       "    </tr>\n",
       "  </tbody>\n",
       "</table>\n",
       "</div>"
      ],
      "text/plain": [
       "           event_time event_type product_id          category_id  \\\n",
       "0 2019-11-01 07:00:41   purchase   13200605  2053013557192163841   \n",
       "1 2019-11-01 07:01:04   purchase    1005161  2053013555631882655   \n",
       "2 2019-11-01 07:04:51   purchase    1004856  2053013555631882655   \n",
       "3 2019-11-01 07:05:34   purchase   26401669  2053013563651392361   \n",
       "4 2019-11-01 07:06:33   purchase    1801881  2053013554415534427   \n",
       "\n",
       "            category_code    brand   price    user_id  \\\n",
       "0   furniture.bedroom.bed     None  566.30  559368633   \n",
       "1  electronics.smartphone   xiaomi  211.92  513351129   \n",
       "2  electronics.smartphone  samsung  128.42  562958505   \n",
       "3                    None  lucente  109.66  541854711   \n",
       "4    electronics.video.tv  samsung  488.80  557746614   \n",
       "\n",
       "                           user_session  event_date  \n",
       "0  d6034fa2-41fb-4ac0-9051-55ea9fc9147a  2019-11-01  \n",
       "1  e6b7ce9b-1938-4e20-976c-8b4163aea11d  2019-11-01  \n",
       "2  0f039697-fedc-40fa-8830-39c1a024351d  2019-11-01  \n",
       "3  c41c44d5-ef9b-41b9-9cd6-8d96dda6e927  2019-11-01  \n",
       "4  4d76d6d3-fff5-4880-8327-e9e57b618e0e  2019-11-01  "
      ]
     },
     "execution_count": 61,
     "metadata": {},
     "output_type": "execute_result"
    }
   ],
   "source": [
    "purchase_pdf = purchase_df.toPandas()\n",
    "purchase_pdf.head()"
   ]
  },
  {
   "cell_type": "code",
   "execution_count": null,
   "metadata": {},
   "outputs": [],
   "source": [
    "purchase_pdf_min = purchase_pdf.groupby(by = 'user_id', as_index = False).agg(first_event_date = ('event_date','min'))"
   ]
  },
  {
   "cell_type": "code",
   "execution_count": null,
   "metadata": {},
   "outputs": [],
   "source": [
    "purchase_pdf = purchase_pdf.merge(purchase_pdf_min, on = 'user_id', how = 'inner')"
   ]
  },
  {
   "cell_type": "code",
   "execution_count": null,
   "metadata": {},
   "outputs": [],
   "source": [
    "purchase_pdf['first_event_date'] = purchase_pdf['first_event_date'].astype('datetime64[ns]')\n",
    "purchase_pdf['start_of_week'] = purchase_pdf['first_event_date'] - pd.to_timedelta(purchase_pdf['first_event_date'].dt.dayofweek, unit='d')\n",
    "purchase_pdf['end_of_week'] = purchase_pdf['start_of_week'] - pd.to_timedelta(6, unit='d')\n",
    "purchase_pdf['week_number'] = purchase_pdf['first_event_date'].dt.isocalendar().week\n",
    "purchase_pdf['week_text'] = 'W' + purchase_pdf['week_number'].astype('str')"
   ]
  },
  {
   "cell_type": "code",
   "execution_count": null,
   "metadata": {},
   "outputs": [
    {
     "data": {
      "text/html": [
       "<div>\n",
       "<style scoped>\n",
       "    .dataframe tbody tr th:only-of-type {\n",
       "        vertical-align: middle;\n",
       "    }\n",
       "\n",
       "    .dataframe tbody tr th {\n",
       "        vertical-align: top;\n",
       "    }\n",
       "\n",
       "    .dataframe thead th {\n",
       "        text-align: right;\n",
       "    }\n",
       "</style>\n",
       "<table border=\"1\" class=\"dataframe\">\n",
       "  <thead>\n",
       "    <tr style=\"text-align: right;\">\n",
       "      <th></th>\n",
       "      <th>user_id</th>\n",
       "      <th>event_time</th>\n",
       "      <th>event_type</th>\n",
       "      <th>product_id</th>\n",
       "      <th>category_id</th>\n",
       "      <th>category_code</th>\n",
       "      <th>brand</th>\n",
       "      <th>price</th>\n",
       "      <th>user_session</th>\n",
       "      <th>event_date</th>\n",
       "      <th>first_event_date</th>\n",
       "      <th>start_of_week</th>\n",
       "      <th>week_number</th>\n",
       "      <th>end_of_week</th>\n",
       "      <th>week_text</th>\n",
       "      <th>cohort_index_week</th>\n",
       "      <th>week_after</th>\n",
       "    </tr>\n",
       "  </thead>\n",
       "  <tbody>\n",
       "    <tr>\n",
       "      <th>0</th>\n",
       "      <td>559368633</td>\n",
       "      <td>2019-11-01 07:00:41</td>\n",
       "      <td>purchase</td>\n",
       "      <td>13200605</td>\n",
       "      <td>2053013557192163841</td>\n",
       "      <td>furniture.bedroom.bed</td>\n",
       "      <td>None</td>\n",
       "      <td>566.30</td>\n",
       "      <td>d6034fa2-41fb-4ac0-9051-55ea9fc9147a</td>\n",
       "      <td>2019-11-01</td>\n",
       "      <td>2019-11-01</td>\n",
       "      <td>2019-10-28</td>\n",
       "      <td>44</td>\n",
       "      <td>2019-10-22</td>\n",
       "      <td>W44</td>\n",
       "      <td>W44 (2019-10-28 ➜ 2019-10-22)</td>\n",
       "      <td>0</td>\n",
       "    </tr>\n",
       "    <tr>\n",
       "      <th>1</th>\n",
       "      <td>513351129</td>\n",
       "      <td>2019-11-01 07:01:04</td>\n",
       "      <td>purchase</td>\n",
       "      <td>1005161</td>\n",
       "      <td>2053013555631882655</td>\n",
       "      <td>electronics.smartphone</td>\n",
       "      <td>xiaomi</td>\n",
       "      <td>211.92</td>\n",
       "      <td>e6b7ce9b-1938-4e20-976c-8b4163aea11d</td>\n",
       "      <td>2019-11-01</td>\n",
       "      <td>2019-11-01</td>\n",
       "      <td>2019-10-28</td>\n",
       "      <td>44</td>\n",
       "      <td>2019-10-22</td>\n",
       "      <td>W44</td>\n",
       "      <td>W44 (2019-10-28 ➜ 2019-10-22)</td>\n",
       "      <td>0</td>\n",
       "    </tr>\n",
       "    <tr>\n",
       "      <th>2</th>\n",
       "      <td>562958505</td>\n",
       "      <td>2019-11-01 07:04:51</td>\n",
       "      <td>purchase</td>\n",
       "      <td>1004856</td>\n",
       "      <td>2053013555631882655</td>\n",
       "      <td>electronics.smartphone</td>\n",
       "      <td>samsung</td>\n",
       "      <td>128.42</td>\n",
       "      <td>0f039697-fedc-40fa-8830-39c1a024351d</td>\n",
       "      <td>2019-11-01</td>\n",
       "      <td>2019-11-01</td>\n",
       "      <td>2019-10-28</td>\n",
       "      <td>44</td>\n",
       "      <td>2019-10-22</td>\n",
       "      <td>W44</td>\n",
       "      <td>W44 (2019-10-28 ➜ 2019-10-22)</td>\n",
       "      <td>0</td>\n",
       "    </tr>\n",
       "    <tr>\n",
       "      <th>3</th>\n",
       "      <td>541854711</td>\n",
       "      <td>2019-11-01 07:05:34</td>\n",
       "      <td>purchase</td>\n",
       "      <td>26401669</td>\n",
       "      <td>2053013563651392361</td>\n",
       "      <td>None</td>\n",
       "      <td>lucente</td>\n",
       "      <td>109.66</td>\n",
       "      <td>c41c44d5-ef9b-41b9-9cd6-8d96dda6e927</td>\n",
       "      <td>2019-11-01</td>\n",
       "      <td>2019-11-01</td>\n",
       "      <td>2019-10-28</td>\n",
       "      <td>44</td>\n",
       "      <td>2019-10-22</td>\n",
       "      <td>W44</td>\n",
       "      <td>W44 (2019-10-28 ➜ 2019-10-22)</td>\n",
       "      <td>0</td>\n",
       "    </tr>\n",
       "    <tr>\n",
       "      <th>4</th>\n",
       "      <td>557746614</td>\n",
       "      <td>2019-11-01 07:06:33</td>\n",
       "      <td>purchase</td>\n",
       "      <td>1801881</td>\n",
       "      <td>2053013554415534427</td>\n",
       "      <td>electronics.video.tv</td>\n",
       "      <td>samsung</td>\n",
       "      <td>488.80</td>\n",
       "      <td>4d76d6d3-fff5-4880-8327-e9e57b618e0e</td>\n",
       "      <td>2019-11-01</td>\n",
       "      <td>2019-11-01</td>\n",
       "      <td>2019-10-28</td>\n",
       "      <td>44</td>\n",
       "      <td>2019-10-22</td>\n",
       "      <td>W44</td>\n",
       "      <td>W44 (2019-10-28 ➜ 2019-10-22)</td>\n",
       "      <td>0</td>\n",
       "    </tr>\n",
       "  </tbody>\n",
       "</table>\n",
       "</div>"
      ],
      "text/plain": [
       "     user_id          event_time event_type product_id          category_id  \\\n",
       "0  559368633 2019-11-01 07:00:41   purchase   13200605  2053013557192163841   \n",
       "1  513351129 2019-11-01 07:01:04   purchase    1005161  2053013555631882655   \n",
       "2  562958505 2019-11-01 07:04:51   purchase    1004856  2053013555631882655   \n",
       "3  541854711 2019-11-01 07:05:34   purchase   26401669  2053013563651392361   \n",
       "4  557746614 2019-11-01 07:06:33   purchase    1801881  2053013554415534427   \n",
       "\n",
       "            category_code    brand   price  \\\n",
       "0   furniture.bedroom.bed     None  566.30   \n",
       "1  electronics.smartphone   xiaomi  211.92   \n",
       "2  electronics.smartphone  samsung  128.42   \n",
       "3                    None  lucente  109.66   \n",
       "4    electronics.video.tv  samsung  488.80   \n",
       "\n",
       "                           user_session  event_date first_event_date  \\\n",
       "0  d6034fa2-41fb-4ac0-9051-55ea9fc9147a  2019-11-01       2019-11-01   \n",
       "1  e6b7ce9b-1938-4e20-976c-8b4163aea11d  2019-11-01       2019-11-01   \n",
       "2  0f039697-fedc-40fa-8830-39c1a024351d  2019-11-01       2019-11-01   \n",
       "3  c41c44d5-ef9b-41b9-9cd6-8d96dda6e927  2019-11-01       2019-11-01   \n",
       "4  4d76d6d3-fff5-4880-8327-e9e57b618e0e  2019-11-01       2019-11-01   \n",
       "\n",
       "  start_of_week  week_number end_of_week week_text  \\\n",
       "0    2019-10-28           44  2019-10-22       W44   \n",
       "1    2019-10-28           44  2019-10-22       W44   \n",
       "2    2019-10-28           44  2019-10-22       W44   \n",
       "3    2019-10-28           44  2019-10-22       W44   \n",
       "4    2019-10-28           44  2019-10-22       W44   \n",
       "\n",
       "               cohort_index_week  week_after  \n",
       "0  W44 (2019-10-28 ➜ 2019-10-22)           0  \n",
       "1  W44 (2019-10-28 ➜ 2019-10-22)           0  \n",
       "2  W44 (2019-10-28 ➜ 2019-10-22)           0  \n",
       "3  W44 (2019-10-28 ➜ 2019-10-22)           0  \n",
       "4  W44 (2019-10-28 ➜ 2019-10-22)           0  "
      ]
     },
     "execution_count": 102,
     "metadata": {},
     "output_type": "execute_result"
    }
   ],
   "source": [
    "purchase_pdf['cohort_index_week'] = purchase_pdf['week_text'] + ' (' \\\n",
    "                                + purchase_pdf['start_of_week'].astype('str') \\\n",
    "                                + ' ➜ ' + purchase_pdf['end_of_week'].astype('str') + ')'\n",
    "purchase_pdf.head()"
   ]
  },
  {
   "cell_type": "code",
   "execution_count": null,
   "metadata": {},
   "outputs": [
    {
     "data": {
      "text/html": [
       "<div>\n",
       "<style scoped>\n",
       "    .dataframe tbody tr th:only-of-type {\n",
       "        vertical-align: middle;\n",
       "    }\n",
       "\n",
       "    .dataframe tbody tr th {\n",
       "        vertical-align: top;\n",
       "    }\n",
       "\n",
       "    .dataframe thead th {\n",
       "        text-align: right;\n",
       "    }\n",
       "</style>\n",
       "<table border=\"1\" class=\"dataframe\">\n",
       "  <thead>\n",
       "    <tr style=\"text-align: right;\">\n",
       "      <th></th>\n",
       "      <th>user_id</th>\n",
       "      <th>event_time</th>\n",
       "      <th>event_type</th>\n",
       "      <th>product_id</th>\n",
       "      <th>category_id</th>\n",
       "      <th>category_code</th>\n",
       "      <th>brand</th>\n",
       "      <th>price</th>\n",
       "      <th>user_session</th>\n",
       "      <th>event_date</th>\n",
       "      <th>first_event_date</th>\n",
       "      <th>start_of_week</th>\n",
       "      <th>week_number</th>\n",
       "      <th>end_of_week</th>\n",
       "      <th>week_text</th>\n",
       "      <th>cohort_index_week</th>\n",
       "      <th>week_after</th>\n",
       "    </tr>\n",
       "  </thead>\n",
       "  <tbody>\n",
       "    <tr>\n",
       "      <th>0</th>\n",
       "      <td>559368633</td>\n",
       "      <td>2019-11-01 07:00:41</td>\n",
       "      <td>purchase</td>\n",
       "      <td>13200605</td>\n",
       "      <td>2053013557192163841</td>\n",
       "      <td>furniture.bedroom.bed</td>\n",
       "      <td>None</td>\n",
       "      <td>566.30</td>\n",
       "      <td>d6034fa2-41fb-4ac0-9051-55ea9fc9147a</td>\n",
       "      <td>2019-11-01</td>\n",
       "      <td>2019-11-01</td>\n",
       "      <td>2019-10-28</td>\n",
       "      <td>44</td>\n",
       "      <td>2019-10-22</td>\n",
       "      <td>W44</td>\n",
       "      <td>W44 (2019-10-28 ➜ 2019-10-22)</td>\n",
       "      <td>0</td>\n",
       "    </tr>\n",
       "    <tr>\n",
       "      <th>1</th>\n",
       "      <td>513351129</td>\n",
       "      <td>2019-11-01 07:01:04</td>\n",
       "      <td>purchase</td>\n",
       "      <td>1005161</td>\n",
       "      <td>2053013555631882655</td>\n",
       "      <td>electronics.smartphone</td>\n",
       "      <td>xiaomi</td>\n",
       "      <td>211.92</td>\n",
       "      <td>e6b7ce9b-1938-4e20-976c-8b4163aea11d</td>\n",
       "      <td>2019-11-01</td>\n",
       "      <td>2019-11-01</td>\n",
       "      <td>2019-10-28</td>\n",
       "      <td>44</td>\n",
       "      <td>2019-10-22</td>\n",
       "      <td>W44</td>\n",
       "      <td>W44 (2019-10-28 ➜ 2019-10-22)</td>\n",
       "      <td>0</td>\n",
       "    </tr>\n",
       "    <tr>\n",
       "      <th>2</th>\n",
       "      <td>562958505</td>\n",
       "      <td>2019-11-01 07:04:51</td>\n",
       "      <td>purchase</td>\n",
       "      <td>1004856</td>\n",
       "      <td>2053013555631882655</td>\n",
       "      <td>electronics.smartphone</td>\n",
       "      <td>samsung</td>\n",
       "      <td>128.42</td>\n",
       "      <td>0f039697-fedc-40fa-8830-39c1a024351d</td>\n",
       "      <td>2019-11-01</td>\n",
       "      <td>2019-11-01</td>\n",
       "      <td>2019-10-28</td>\n",
       "      <td>44</td>\n",
       "      <td>2019-10-22</td>\n",
       "      <td>W44</td>\n",
       "      <td>W44 (2019-10-28 ➜ 2019-10-22)</td>\n",
       "      <td>0</td>\n",
       "    </tr>\n",
       "    <tr>\n",
       "      <th>3</th>\n",
       "      <td>541854711</td>\n",
       "      <td>2019-11-01 07:05:34</td>\n",
       "      <td>purchase</td>\n",
       "      <td>26401669</td>\n",
       "      <td>2053013563651392361</td>\n",
       "      <td>None</td>\n",
       "      <td>lucente</td>\n",
       "      <td>109.66</td>\n",
       "      <td>c41c44d5-ef9b-41b9-9cd6-8d96dda6e927</td>\n",
       "      <td>2019-11-01</td>\n",
       "      <td>2019-11-01</td>\n",
       "      <td>2019-10-28</td>\n",
       "      <td>44</td>\n",
       "      <td>2019-10-22</td>\n",
       "      <td>W44</td>\n",
       "      <td>W44 (2019-10-28 ➜ 2019-10-22)</td>\n",
       "      <td>0</td>\n",
       "    </tr>\n",
       "    <tr>\n",
       "      <th>4</th>\n",
       "      <td>557746614</td>\n",
       "      <td>2019-11-01 07:06:33</td>\n",
       "      <td>purchase</td>\n",
       "      <td>1801881</td>\n",
       "      <td>2053013554415534427</td>\n",
       "      <td>electronics.video.tv</td>\n",
       "      <td>samsung</td>\n",
       "      <td>488.80</td>\n",
       "      <td>4d76d6d3-fff5-4880-8327-e9e57b618e0e</td>\n",
       "      <td>2019-11-01</td>\n",
       "      <td>2019-11-01</td>\n",
       "      <td>2019-10-28</td>\n",
       "      <td>44</td>\n",
       "      <td>2019-10-22</td>\n",
       "      <td>W44</td>\n",
       "      <td>W44 (2019-10-28 ➜ 2019-10-22)</td>\n",
       "      <td>0</td>\n",
       "    </tr>\n",
       "  </tbody>\n",
       "</table>\n",
       "</div>"
      ],
      "text/plain": [
       "     user_id          event_time event_type product_id          category_id  \\\n",
       "0  559368633 2019-11-01 07:00:41   purchase   13200605  2053013557192163841   \n",
       "1  513351129 2019-11-01 07:01:04   purchase    1005161  2053013555631882655   \n",
       "2  562958505 2019-11-01 07:04:51   purchase    1004856  2053013555631882655   \n",
       "3  541854711 2019-11-01 07:05:34   purchase   26401669  2053013563651392361   \n",
       "4  557746614 2019-11-01 07:06:33   purchase    1801881  2053013554415534427   \n",
       "\n",
       "            category_code    brand   price  \\\n",
       "0   furniture.bedroom.bed     None  566.30   \n",
       "1  electronics.smartphone   xiaomi  211.92   \n",
       "2  electronics.smartphone  samsung  128.42   \n",
       "3                    None  lucente  109.66   \n",
       "4    electronics.video.tv  samsung  488.80   \n",
       "\n",
       "                           user_session  event_date first_event_date  \\\n",
       "0  d6034fa2-41fb-4ac0-9051-55ea9fc9147a  2019-11-01       2019-11-01   \n",
       "1  e6b7ce9b-1938-4e20-976c-8b4163aea11d  2019-11-01       2019-11-01   \n",
       "2  0f039697-fedc-40fa-8830-39c1a024351d  2019-11-01       2019-11-01   \n",
       "3  c41c44d5-ef9b-41b9-9cd6-8d96dda6e927  2019-11-01       2019-11-01   \n",
       "4  4d76d6d3-fff5-4880-8327-e9e57b618e0e  2019-11-01       2019-11-01   \n",
       "\n",
       "  start_of_week  week_number end_of_week week_text  \\\n",
       "0    2019-10-28           44  2019-10-22       W44   \n",
       "1    2019-10-28           44  2019-10-22       W44   \n",
       "2    2019-10-28           44  2019-10-22       W44   \n",
       "3    2019-10-28           44  2019-10-22       W44   \n",
       "4    2019-10-28           44  2019-10-22       W44   \n",
       "\n",
       "               cohort_index_week  week_after  \n",
       "0  W44 (2019-10-28 ➜ 2019-10-22)           0  \n",
       "1  W44 (2019-10-28 ➜ 2019-10-22)           0  \n",
       "2  W44 (2019-10-28 ➜ 2019-10-22)           0  \n",
       "3  W44 (2019-10-28 ➜ 2019-10-22)           0  \n",
       "4  W44 (2019-10-28 ➜ 2019-10-22)           0  "
      ]
     },
     "execution_count": 103,
     "metadata": {},
     "output_type": "execute_result"
    }
   ],
   "source": [
    "purchase_pdf['week_after'] = ((purchase_pdf['event_date'].astype('datetime64[ns]') - purchase_pdf['first_event_date'].astype('datetime64[ns]')).dt.days // 7).astype(int)\n",
    "purchase_pdf.head()"
   ]
  },
  {
   "cell_type": "code",
   "execution_count": null,
   "metadata": {},
   "outputs": [
    {
     "data": {
      "image/png": "[encoded data removed]",
      "text/plain": [
       "<Figure size 1000x600 with 2 Axes>"
      ]
     },
     "metadata": {},
     "output_type": "display_data"
    }
   ],
   "source": [
    "purchase_pdf_pivot = purchase_pdf.pivot_table(index = 'cohort_index_week'\n",
    "                                            , columns = 'week_after'\n",
    "                                            , values = 'user_id'\n",
    "                                            , aggfunc = 'nunique')\n",
    "\n",
    "df_cohort_new = purchase_pdf_pivot\n",
    "empty_column = pd.Series([0] * len(df_cohort_new), name='SLKH')\n",
    "df_cohort_new.insert(loc=0, column='SLKH', value=empty_column)\n",
    "\n",
    "cohort_size_monthly_new = df_cohort_new.iloc[:, 1]\n",
    "retention_matrix_monthly_new = df_cohort_new.divide(cohort_size_monthly_new, axis=0)\n",
    "\n",
    "plt.figure(figsize= (10,6))\n",
    "sns.heatmap(data = retention_matrix_monthly_new\n",
    "            ,annot=True\n",
    "            ,cmap='YlGnBu'\n",
    "            ,fmt = '.0%')\n",
    "\n",
    "for i in range(len(purchase_pdf_pivot)):\n",
    "    plt.text(0.5, i + 0.5, '{:,.0f}'.format(purchase_pdf_pivot.iloc[i, 1])\n",
    "            , ha='center'\n",
    "            , va='center'\n",
    "            , color = 'red')\n",
    "    \n",
    "plt.xlabel('Weeks After')\n",
    "plt.ylabel('First Order Week in Nov 2019')\n",
    "plt.title('Cohort Analysis - Weekly Retention Rate')\n",
    "\n",
    "plt.show()"
   ]
  },
  {
   "cell_type": "markdown",
   "metadata": {},
   "source": [
    "> RETENTION OVER WEEKS:\n",
    "\n",
    "1. <b> Users Acquisition </b>: It can be clearly seen that W46 acquired the highest number of new customers in Nov 2019. With 168k new users purchased in W46, this week even quadruple W44, but the engagement rate is significantly lower. I suggest optimization or adjustments may be needed in the customer onboarding or retention strategies to improve engagement and conversion rates. \n",
    "\n",
    "2. <b> Engagement Decline </b>: There is a noticeable decline in engagement as we move further away from the initial week of acquisition (cohort week). For example, in cohort W44, the engagement rate drops from 19% in week 2 to 4% in week 4. This suggests that customers from these cohorts are gradually becoming less active or making fewer purchases over time so we have to wake them up before the hibernation."
   ]
  },
  {
   "cell_type": "markdown",
   "metadata": {},
   "source": [
    "### III. Market Preferences"
   ]
  },
  {
   "cell_type": "code",
   "execution_count": null,
   "metadata": {},
   "outputs": [],
   "source": [
    "def format_large_numbers(value):\n",
    "    if value >= 1e9:\n",
    "        return f'{value/1e9:.1f}B'\n",
    "    elif value >= 1e6:\n",
    "        return f'{value/1e6:.1f}M'\n",
    "    elif value >= 1e3:\n",
    "        return f'{value/1e3:.1f}K'\n",
    "    else:\n",
    "        return str(value)"
   ]
  },
  {
   "cell_type": "code",
   "execution_count": null,
   "metadata": {},
   "outputs": [],
   "source": [
    "purchase_by_brand_sorted_revenue = purchase_df.groupBy('brand').agg(\n",
    "    F.sum('price').alias('total_revenue')\n",
    "    ,F.count('event_type').alias('purchase_count')\n",
    ").orderBy(F.desc('total_revenue')).toPandas()\n",
    "\n",
    "purchase_by_brand_sorted_count = purchase_df.groupBy('brand').agg(\n",
    "    F.sum('price').alias('total_revenue')\n",
    "    ,F.count('event_type').alias('purchase_count')\n",
    ").orderBy(F.desc('purchase_count')).toPandas()\n",
    "\n",
    "purchase_by_brand_sorted_revenue['total_revenue'] = purchase_by_brand_sorted_revenue['total_revenue'].astype('int64')\n",
    "purchase_by_brand_sorted_count['purchase_count'] = purchase_by_brand_sorted_count['purchase_count'].astype('int64')"
   ]
  },
  {
   "cell_type": "code",
   "execution_count": null,
   "metadata": {},
   "outputs": [
    {
     "name": "stderr",
     "output_type": "stream",
     "text": [
      "C:\\Users\\TuNguyen\\AppData\\Local\\Temp\\ipykernel_968\\793302559.py:4: FutureWarning: \n",
      "\n",
      "Passing `palette` without assigning `hue` is deprecated and will be removed in v0.14.0. Assign the `y` variable to `hue` and set `legend=False` for the same effect.\n",
      "\n",
      "  sns.barplot(data=purchase_by_brand_sorted_revenue.head(10)\n",
      "C:\\Users\\TuNguyen\\AppData\\Local\\Temp\\ipykernel_968\\793302559.py:17: FutureWarning: \n",
      "\n",
      "Passing `palette` without assigning `hue` is deprecated and will be removed in v0.14.0. Assign the `y` variable to `hue` and set `legend=False` for the same effect.\n",
      "\n",
      "  sns.barplot(data=purchase_by_brand_sorted_count.head(10)\n"
     ]
    },
    {
     "data": {
      "image/png": "[encoded data removed]",
      "text/plain": [
       "<Figure size 2000x800 with 2 Axes>"
      ]
     },
     "metadata": {},
     "output_type": "display_data"
    }
   ],
   "source": [
    "fig, (ax1, ax2) = plt.subplots(1, 2, figsize=(20, 8))\n",
    "\n",
    "# Plot the bar chart for TOP 10 total revenue\n",
    "sns.barplot(data=purchase_by_brand_sorted_revenue.head(10)\n",
    "            , y='brand'\n",
    "            , x='total_revenue'\n",
    "            , palette = 'YlGnBu'\n",
    "            , ax=ax1)\n",
    "ax1.set_title('Top 10 Revenue by Brand')\n",
    "ax1.set_xlabel('Total Revenue')\n",
    "ax1.set_ylabel('Brand')\n",
    "ax1.set_xlim(0,150000000)\n",
    "for i in ax1.containers:\n",
    "    ax1.bar_label(i, labels=[format_large_numbers(x) for x in i.datavalues])\n",
    "\n",
    "# Plot the bar chart for TOP 10 purchase count\n",
    "sns.barplot(data=purchase_by_brand_sorted_count.head(10)\n",
    "            , y='brand'\n",
    "            , x='purchase_count'\n",
    "            , palette = 'mako'\n",
    "            , ax=ax2)\n",
    "ax2.set_title('Top 10 Purchase Count by Brand')\n",
    "ax2.set_xlabel('Purchase Count')\n",
    "ax2.set_ylabel('Brand')\n",
    "ax2.set_xlim(0,250000)\n",
    "for j in ax2.containers:\n",
    "    ax2.bar_label(j, labels=[format_large_numbers(x) for x in j.datavalues])\n",
    "\n",
    "plt.tight_layout()\n",
    "\n",
    "plt.show()"
   ]
  },
  {
   "cell_type": "markdown",
   "metadata": {},
   "source": [
    "> MARKET INSIGHTS:  \n",
    "\n",
    "<b> 1. Apple Leads in Revenue </b>: Apple dominates the revenue chart with $127.5M, more than double Samsung's $54.9M, indicating high-value products contributing to significant revenue despite a lower purchase count compared to Samsung.\n",
    "\n",
    "<b> 2. Samsung Leads in Purchase Count</b>: Samsung tops the purchase count with 200.0K purchases, surpassing Apple's 166.1K. This suggests Samsung products have a higher volume of sales, possibly due to a wider range of mid to low-priced products.\n",
    "\n",
    "<b> 3. Revenue vs Purchase Count</b>: Despite Apple having a lower purchase count compared to Samsung, its revenue is significantly higher. This highlights that Apple's products are generally priced higher than Samsung's.\n",
    "\n",
    "<b> 4. Xiaomi's Strong Presence</b>: Xiaomi ranks third in both revenue ($11.3M) and purchase count (68.3K), showing its balanced performance in terms of both sales volume and revenue generation.\n",
    "\n",
    "<b> 5. Other Brands</b>: LG, Huawei, Sony, and others show a noticeable presence, but with significantly lower figures in both revenue and purchase count compared to Apple and Samsung. Huawei has a relatively higher purchase count compared to its revenue, indicating lower-priced products.\n",
    "\n",
    "<b> 6. Market Segmentation</b>: The difference in rankings between revenue and purchase count among brands like LG, Sony, and Huawei indicates varied market strategies focusing on either high volume (more affordable products) or high value (premium products)."
   ]
  },
  {
   "cell_type": "markdown",
   "metadata": {},
   "source": [
    "### IV. Customer Segmentation"
   ]
  },
  {
   "cell_type": "code",
   "execution_count": null,
   "metadata": {},
   "outputs": [],
   "source": [
    "# purchase_pdf.to_csv('purchase_pdf.csv', index = False)"
   ]
  },
  {
   "cell_type": "code",
   "execution_count": null,
   "metadata": {},
   "outputs": [
    {
     "data": {
      "text/html": [
       "<div>\n",
       "<style scoped>\n",
       "    .dataframe tbody tr th:only-of-type {\n",
       "        vertical-align: middle;\n",
       "    }\n",
       "\n",
       "    .dataframe tbody tr th {\n",
       "        vertical-align: top;\n",
       "    }\n",
       "\n",
       "    .dataframe thead th {\n",
       "        text-align: right;\n",
       "    }\n",
       "</style>\n",
       "<table border=\"1\" class=\"dataframe\">\n",
       "  <thead>\n",
       "    <tr style=\"text-align: right;\">\n",
       "      <th></th>\n",
       "      <th>user_id</th>\n",
       "      <th>event_time</th>\n",
       "      <th>event_type</th>\n",
       "      <th>product_id</th>\n",
       "      <th>category_id</th>\n",
       "      <th>category_code</th>\n",
       "      <th>brand</th>\n",
       "      <th>price</th>\n",
       "      <th>user_session</th>\n",
       "      <th>event_date</th>\n",
       "      <th>first_event_date</th>\n",
       "      <th>start_of_week</th>\n",
       "      <th>week_number</th>\n",
       "      <th>end_of_week</th>\n",
       "      <th>week_text</th>\n",
       "      <th>cohort_index_week</th>\n",
       "      <th>week_after</th>\n",
       "    </tr>\n",
       "  </thead>\n",
       "  <tbody>\n",
       "    <tr>\n",
       "      <th>0</th>\n",
       "      <td>559368633</td>\n",
       "      <td>2019-11-01 07:00:41</td>\n",
       "      <td>purchase</td>\n",
       "      <td>13200605</td>\n",
       "      <td>2053013557192163841</td>\n",
       "      <td>furniture.bedroom.bed</td>\n",
       "      <td>NaN</td>\n",
       "      <td>566.30</td>\n",
       "      <td>d6034fa2-41fb-4ac0-9051-55ea9fc9147a</td>\n",
       "      <td>2019-11-01</td>\n",
       "      <td>2019-11-01</td>\n",
       "      <td>2019-10-28</td>\n",
       "      <td>44</td>\n",
       "      <td>2019-10-22</td>\n",
       "      <td>W44</td>\n",
       "      <td>W44 (2019-10-28 ➜ 2019-10-22)</td>\n",
       "      <td>0</td>\n",
       "    </tr>\n",
       "    <tr>\n",
       "      <th>1</th>\n",
       "      <td>513351129</td>\n",
       "      <td>2019-11-01 07:01:04</td>\n",
       "      <td>purchase</td>\n",
       "      <td>1005161</td>\n",
       "      <td>2053013555631882655</td>\n",
       "      <td>electronics.smartphone</td>\n",
       "      <td>xiaomi</td>\n",
       "      <td>211.92</td>\n",
       "      <td>e6b7ce9b-1938-4e20-976c-8b4163aea11d</td>\n",
       "      <td>2019-11-01</td>\n",
       "      <td>2019-11-01</td>\n",
       "      <td>2019-10-28</td>\n",
       "      <td>44</td>\n",
       "      <td>2019-10-22</td>\n",
       "      <td>W44</td>\n",
       "      <td>W44 (2019-10-28 ➜ 2019-10-22)</td>\n",
       "      <td>0</td>\n",
       "    </tr>\n",
       "    <tr>\n",
       "      <th>2</th>\n",
       "      <td>562958505</td>\n",
       "      <td>2019-11-01 07:04:51</td>\n",
       "      <td>purchase</td>\n",
       "      <td>1004856</td>\n",
       "      <td>2053013555631882655</td>\n",
       "      <td>electronics.smartphone</td>\n",
       "      <td>samsung</td>\n",
       "      <td>128.42</td>\n",
       "      <td>0f039697-fedc-40fa-8830-39c1a024351d</td>\n",
       "      <td>2019-11-01</td>\n",
       "      <td>2019-11-01</td>\n",
       "      <td>2019-10-28</td>\n",
       "      <td>44</td>\n",
       "      <td>2019-10-22</td>\n",
       "      <td>W44</td>\n",
       "      <td>W44 (2019-10-28 ➜ 2019-10-22)</td>\n",
       "      <td>0</td>\n",
       "    </tr>\n",
       "    <tr>\n",
       "      <th>3</th>\n",
       "      <td>541854711</td>\n",
       "      <td>2019-11-01 07:05:34</td>\n",
       "      <td>purchase</td>\n",
       "      <td>26401669</td>\n",
       "      <td>2053013563651392361</td>\n",
       "      <td>NaN</td>\n",
       "      <td>lucente</td>\n",
       "      <td>109.66</td>\n",
       "      <td>c41c44d5-ef9b-41b9-9cd6-8d96dda6e927</td>\n",
       "      <td>2019-11-01</td>\n",
       "      <td>2019-11-01</td>\n",
       "      <td>2019-10-28</td>\n",
       "      <td>44</td>\n",
       "      <td>2019-10-22</td>\n",
       "      <td>W44</td>\n",
       "      <td>W44 (2019-10-28 ➜ 2019-10-22)</td>\n",
       "      <td>0</td>\n",
       "    </tr>\n",
       "    <tr>\n",
       "      <th>4</th>\n",
       "      <td>557746614</td>\n",
       "      <td>2019-11-01 07:06:33</td>\n",
       "      <td>purchase</td>\n",
       "      <td>1801881</td>\n",
       "      <td>2053013554415534427</td>\n",
       "      <td>electronics.video.tv</td>\n",
       "      <td>samsung</td>\n",
       "      <td>488.80</td>\n",
       "      <td>4d76d6d3-fff5-4880-8327-e9e57b618e0e</td>\n",
       "      <td>2019-11-01</td>\n",
       "      <td>2019-11-01</td>\n",
       "      <td>2019-10-28</td>\n",
       "      <td>44</td>\n",
       "      <td>2019-10-22</td>\n",
       "      <td>W44</td>\n",
       "      <td>W44 (2019-10-28 ➜ 2019-10-22)</td>\n",
       "      <td>0</td>\n",
       "    </tr>\n",
       "  </tbody>\n",
       "</table>\n",
       "</div>"
      ],
      "text/plain": [
       "     user_id           event_time event_type  product_id          category_id  \\\n",
       "0  559368633  2019-11-01 07:00:41   purchase    13200605  2053013557192163841   \n",
       "1  513351129  2019-11-01 07:01:04   purchase     1005161  2053013555631882655   \n",
       "2  562958505  2019-11-01 07:04:51   purchase     1004856  2053013555631882655   \n",
       "3  541854711  2019-11-01 07:05:34   purchase    26401669  2053013563651392361   \n",
       "4  557746614  2019-11-01 07:06:33   purchase     1801881  2053013554415534427   \n",
       "\n",
       "            category_code    brand   price  \\\n",
       "0   furniture.bedroom.bed      NaN  566.30   \n",
       "1  electronics.smartphone   xiaomi  211.92   \n",
       "2  electronics.smartphone  samsung  128.42   \n",
       "3                     NaN  lucente  109.66   \n",
       "4    electronics.video.tv  samsung  488.80   \n",
       "\n",
       "                           user_session  event_date first_event_date  \\\n",
       "0  d6034fa2-41fb-4ac0-9051-55ea9fc9147a  2019-11-01       2019-11-01   \n",
       "1  e6b7ce9b-1938-4e20-976c-8b4163aea11d  2019-11-01       2019-11-01   \n",
       "2  0f039697-fedc-40fa-8830-39c1a024351d  2019-11-01       2019-11-01   \n",
       "3  c41c44d5-ef9b-41b9-9cd6-8d96dda6e927  2019-11-01       2019-11-01   \n",
       "4  4d76d6d3-fff5-4880-8327-e9e57b618e0e  2019-11-01       2019-11-01   \n",
       "\n",
       "  start_of_week  week_number end_of_week week_text  \\\n",
       "0    2019-10-28           44  2019-10-22       W44   \n",
       "1    2019-10-28           44  2019-10-22       W44   \n",
       "2    2019-10-28           44  2019-10-22       W44   \n",
       "3    2019-10-28           44  2019-10-22       W44   \n",
       "4    2019-10-28           44  2019-10-22       W44   \n",
       "\n",
       "               cohort_index_week  week_after  \n",
       "0  W44 (2019-10-28 ➜ 2019-10-22)           0  \n",
       "1  W44 (2019-10-28 ➜ 2019-10-22)           0  \n",
       "2  W44 (2019-10-28 ➜ 2019-10-22)           0  \n",
       "3  W44 (2019-10-28 ➜ 2019-10-22)           0  \n",
       "4  W44 (2019-10-28 ➜ 2019-10-22)           0  "
      ]
     },
     "execution_count": 116,
     "metadata": {},
     "output_type": "execute_result"
    }
   ],
   "source": [
    "purchase_pdf = pd.read_csv('purchase_pdf.csv')\n",
    "purchase_pdf.head()"
   ]
  },
  {
   "cell_type": "markdown",
   "metadata": {},
   "source": [
    "> Some of the features being used while clustering: \n",
    "\n",
    "1. Recency: The time since the last purchase made by each user. This could be calculated by subtracting the latest \"event_time\" for each user from the current date.\n",
    "\n",
    "2. Frequency: The total number of purchases made by each user within a certain time period.\n",
    "\n",
    "3. Monetary Value: The total amount spent by each user over all their purchases."
   ]
  },
  {
   "cell_type": "code",
   "execution_count": null,
   "metadata": {},
   "outputs": [],
   "source": [
    "purchase_pdf['event_date'] = purchase_pdf['event_date'].astype('datetime64[ns]')"
   ]
  },
  {
   "cell_type": "code",
   "execution_count": null,
   "metadata": {},
   "outputs": [],
   "source": [
    "# Calculate Recency, Frequency, Monetary\n",
    "current_date = purchase_pdf['event_time'].astype('datetime64[ns]').max()\n",
    "customer_features = purchase_pdf.groupby(by = 'user_id', as_index = False).agg(last_date = ('event_date', 'max')\n",
    "                                                            , frequency = ('event_type', 'count')\n",
    "                                                            , monetary = ('price', 'sum'))\n",
    "customer_features['recency'] = (current_date - customer_features['last_date']).dt.days\n",
    "customer_features.drop(columns = 'last_date', inplace = True)"
   ]
  },
  {
   "cell_type": "code",
   "execution_count": null,
   "metadata": {},
   "outputs": [
    {
     "data": {
      "text/plain": [
       "Text(0.5, 1.0, 'Correlation Heatmap')"
      ]
     },
     "execution_count": 132,
     "metadata": {},
     "output_type": "execute_result"
    },
    {
     "data": {
      "image/png": "[encoded data removed]",
      "text/plain": [
       "<Figure size 800x400 with 2 Axes>"
      ]
     },
     "metadata": {},
     "output_type": "display_data"
    }
   ],
   "source": [
    "customer_features['user_id'] = customer_features['user_id'].astype('str')\n",
    "\n",
    "corr_matrix = customer_features.corr()\n",
    "plt.figure(figsize=(8,4))  \n",
    "sns.heatmap(corr_matrix\n",
    "            , annot=True\n",
    "            , cmap= 'RdBu'\n",
    "            , center=0\n",
    "            , fmt = '.0%')\n",
    "plt.title('Correlation Heatmap')"
   ]
  },
  {
   "cell_type": "code",
   "execution_count": null,
   "metadata": {},
   "outputs": [],
   "source": [
    "customer_features['R_score'] = pd.qcut(customer_features['recency'], q = 5, labels = [5,4,3,2,1], duplicates='drop')\n",
    "customer_features['F_score'] = pd.qcut(customer_features['frequency'], q = 5, labels = [4,5], duplicates='drop')\n",
    "customer_features['M_score'] = pd.qcut(customer_features['monetary'], q = 5, labels = [1,2,3,4,5], duplicates='drop')"
   ]
  },
  {
   "cell_type": "code",
   "execution_count": null,
   "metadata": {},
   "outputs": [
    {
     "data": {
      "text/html": [
       "<div>\n",
       "<style scoped>\n",
       "    .dataframe tbody tr th:only-of-type {\n",
       "        vertical-align: middle;\n",
       "    }\n",
       "\n",
       "    .dataframe tbody tr th {\n",
       "        vertical-align: top;\n",
       "    }\n",
       "\n",
       "    .dataframe thead th {\n",
       "        text-align: right;\n",
       "    }\n",
       "</style>\n",
       "<table border=\"1\" class=\"dataframe\">\n",
       "  <thead>\n",
       "    <tr style=\"text-align: right;\">\n",
       "      <th></th>\n",
       "      <th>user_id</th>\n",
       "      <th>frequency</th>\n",
       "      <th>monetary</th>\n",
       "      <th>recency</th>\n",
       "      <th>R_score</th>\n",
       "      <th>F_score</th>\n",
       "      <th>M_score</th>\n",
       "      <th>RFM_Segment</th>\n",
       "      <th>RFM_Score</th>\n",
       "    </tr>\n",
       "  </thead>\n",
       "  <tbody>\n",
       "    <tr>\n",
       "      <th>0</th>\n",
       "      <td>138340325</td>\n",
       "      <td>1</td>\n",
       "      <td>93.50</td>\n",
       "      <td>20</td>\n",
       "      <td>2</td>\n",
       "      <td>4</td>\n",
       "      <td>2</td>\n",
       "      <td>Other</td>\n",
       "      <td>242</td>\n",
       "    </tr>\n",
       "    <tr>\n",
       "      <th>1</th>\n",
       "      <td>225644257</td>\n",
       "      <td>1</td>\n",
       "      <td>40.91</td>\n",
       "      <td>19</td>\n",
       "      <td>2</td>\n",
       "      <td>4</td>\n",
       "      <td>1</td>\n",
       "      <td>Other</td>\n",
       "      <td>241</td>\n",
       "    </tr>\n",
       "    <tr>\n",
       "      <th>2</th>\n",
       "      <td>253299396</td>\n",
       "      <td>1</td>\n",
       "      <td>246.85</td>\n",
       "      <td>25</td>\n",
       "      <td>1</td>\n",
       "      <td>4</td>\n",
       "      <td>3</td>\n",
       "      <td>Other</td>\n",
       "      <td>143</td>\n",
       "    </tr>\n",
       "    <tr>\n",
       "      <th>3</th>\n",
       "      <td>256164170</td>\n",
       "      <td>1</td>\n",
       "      <td>113.23</td>\n",
       "      <td>11</td>\n",
       "      <td>4</td>\n",
       "      <td>4</td>\n",
       "      <td>2</td>\n",
       "      <td>Other</td>\n",
       "      <td>442</td>\n",
       "    </tr>\n",
       "    <tr>\n",
       "      <th>4</th>\n",
       "      <td>267316896</td>\n",
       "      <td>1</td>\n",
       "      <td>189.71</td>\n",
       "      <td>17</td>\n",
       "      <td>2</td>\n",
       "      <td>4</td>\n",
       "      <td>3</td>\n",
       "      <td>Other</td>\n",
       "      <td>243</td>\n",
       "    </tr>\n",
       "    <tr>\n",
       "      <th>...</th>\n",
       "      <td>...</td>\n",
       "      <td>...</td>\n",
       "      <td>...</td>\n",
       "      <td>...</td>\n",
       "      <td>...</td>\n",
       "      <td>...</td>\n",
       "      <td>...</td>\n",
       "      <td>...</td>\n",
       "      <td>...</td>\n",
       "    </tr>\n",
       "    <tr>\n",
       "      <th>441633</th>\n",
       "      <td>579962677</td>\n",
       "      <td>1</td>\n",
       "      <td>1634.38</td>\n",
       "      <td>0</td>\n",
       "      <td>5</td>\n",
       "      <td>4</td>\n",
       "      <td>5</td>\n",
       "      <td>Other</td>\n",
       "      <td>545</td>\n",
       "    </tr>\n",
       "    <tr>\n",
       "      <th>441634</th>\n",
       "      <td>579963523</td>\n",
       "      <td>1</td>\n",
       "      <td>457.91</td>\n",
       "      <td>0</td>\n",
       "      <td>5</td>\n",
       "      <td>4</td>\n",
       "      <td>4</td>\n",
       "      <td>Other</td>\n",
       "      <td>544</td>\n",
       "    </tr>\n",
       "    <tr>\n",
       "      <th>441635</th>\n",
       "      <td>579964521</td>\n",
       "      <td>1</td>\n",
       "      <td>334.60</td>\n",
       "      <td>0</td>\n",
       "      <td>5</td>\n",
       "      <td>4</td>\n",
       "      <td>3</td>\n",
       "      <td>Other</td>\n",
       "      <td>543</td>\n",
       "    </tr>\n",
       "    <tr>\n",
       "      <th>441636</th>\n",
       "      <td>579966375</td>\n",
       "      <td>1</td>\n",
       "      <td>124.11</td>\n",
       "      <td>0</td>\n",
       "      <td>5</td>\n",
       "      <td>4</td>\n",
       "      <td>2</td>\n",
       "      <td>Other</td>\n",
       "      <td>542</td>\n",
       "    </tr>\n",
       "    <tr>\n",
       "      <th>441637</th>\n",
       "      <td>579967058</td>\n",
       "      <td>1</td>\n",
       "      <td>124.11</td>\n",
       "      <td>0</td>\n",
       "      <td>5</td>\n",
       "      <td>4</td>\n",
       "      <td>2</td>\n",
       "      <td>Other</td>\n",
       "      <td>542</td>\n",
       "    </tr>\n",
       "  </tbody>\n",
       "</table>\n",
       "<p>441638 rows × 9 columns</p>\n",
       "</div>"
      ],
      "text/plain": [
       "          user_id  frequency  monetary  recency  R_score  F_score  M_score  \\\n",
       "0       138340325          1     93.50       20        2        4        2   \n",
       "1       225644257          1     40.91       19        2        4        1   \n",
       "2       253299396          1    246.85       25        1        4        3   \n",
       "3       256164170          1    113.23       11        4        4        2   \n",
       "4       267316896          1    189.71       17        2        4        3   \n",
       "...           ...        ...       ...      ...      ...      ...      ...   \n",
       "441633  579962677          1   1634.38        0        5        4        5   \n",
       "441634  579963523          1    457.91        0        5        4        4   \n",
       "441635  579964521          1    334.60        0        5        4        3   \n",
       "441636  579966375          1    124.11        0        5        4        2   \n",
       "441637  579967058          1    124.11        0        5        4        2   \n",
       "\n",
       "       RFM_Segment  RFM_Score  \n",
       "0            Other        242  \n",
       "1            Other        241  \n",
       "2            Other        143  \n",
       "3            Other        442  \n",
       "4            Other        243  \n",
       "...            ...        ...  \n",
       "441633       Other        545  \n",
       "441634       Other        544  \n",
       "441635       Other        543  \n",
       "441636       Other        542  \n",
       "441637       Other        542  \n",
       "\n",
       "[441638 rows x 9 columns]"
      ]
     },
     "execution_count": 140,
     "metadata": {},
     "output_type": "execute_result"
    }
   ],
   "source": [
    "customer_features['R_score'] = customer_features['R_score'].astype(int)\n",
    "customer_features['F_score'] = customer_features['F_score'].astype(int)\n",
    "customer_features['M_score'] = customer_features['M_score'].astype(int)\n",
    "customer_features['RFM_Score'] = customer_features['R_score'] * 100 + customer_features['F_score'] * 10 + customer_features['M_score']\n",
    "customer_features"
   ]
  },
  {
   "cell_type": "code",
   "execution_count": null,
   "metadata": {},
   "outputs": [
    {
     "data": {
      "text/html": [
       "<div>\n",
       "<style scoped>\n",
       "    .dataframe tbody tr th:only-of-type {\n",
       "        vertical-align: middle;\n",
       "    }\n",
       "\n",
       "    .dataframe tbody tr th {\n",
       "        vertical-align: top;\n",
       "    }\n",
       "\n",
       "    .dataframe thead th {\n",
       "        text-align: right;\n",
       "    }\n",
       "</style>\n",
       "<table border=\"1\" class=\"dataframe\">\n",
       "  <thead>\n",
       "    <tr style=\"text-align: right;\">\n",
       "      <th></th>\n",
       "      <th>user_id</th>\n",
       "      <th>frequency</th>\n",
       "      <th>monetary</th>\n",
       "      <th>recency</th>\n",
       "      <th>R_score</th>\n",
       "      <th>F_score</th>\n",
       "      <th>M_score</th>\n",
       "      <th>RFM_Segment</th>\n",
       "      <th>RFM_Score</th>\n",
       "    </tr>\n",
       "  </thead>\n",
       "  <tbody>\n",
       "    <tr>\n",
       "      <th>0</th>\n",
       "      <td>138340325</td>\n",
       "      <td>1</td>\n",
       "      <td>93.50</td>\n",
       "      <td>20</td>\n",
       "      <td>2</td>\n",
       "      <td>4</td>\n",
       "      <td>2</td>\n",
       "      <td>At Risk</td>\n",
       "      <td>242</td>\n",
       "    </tr>\n",
       "    <tr>\n",
       "      <th>1</th>\n",
       "      <td>225644257</td>\n",
       "      <td>1</td>\n",
       "      <td>40.91</td>\n",
       "      <td>19</td>\n",
       "      <td>2</td>\n",
       "      <td>4</td>\n",
       "      <td>1</td>\n",
       "      <td>About To Sleep</td>\n",
       "      <td>241</td>\n",
       "    </tr>\n",
       "    <tr>\n",
       "      <th>2</th>\n",
       "      <td>253299396</td>\n",
       "      <td>1</td>\n",
       "      <td>246.85</td>\n",
       "      <td>25</td>\n",
       "      <td>1</td>\n",
       "      <td>4</td>\n",
       "      <td>3</td>\n",
       "      <td>At Risk</td>\n",
       "      <td>143</td>\n",
       "    </tr>\n",
       "    <tr>\n",
       "      <th>3</th>\n",
       "      <td>256164170</td>\n",
       "      <td>1</td>\n",
       "      <td>113.23</td>\n",
       "      <td>11</td>\n",
       "      <td>4</td>\n",
       "      <td>4</td>\n",
       "      <td>2</td>\n",
       "      <td>Potential Loyalist</td>\n",
       "      <td>442</td>\n",
       "    </tr>\n",
       "    <tr>\n",
       "      <th>4</th>\n",
       "      <td>267316896</td>\n",
       "      <td>1</td>\n",
       "      <td>189.71</td>\n",
       "      <td>17</td>\n",
       "      <td>2</td>\n",
       "      <td>4</td>\n",
       "      <td>3</td>\n",
       "      <td>At Risk</td>\n",
       "      <td>243</td>\n",
       "    </tr>\n",
       "    <tr>\n",
       "      <th>...</th>\n",
       "      <td>...</td>\n",
       "      <td>...</td>\n",
       "      <td>...</td>\n",
       "      <td>...</td>\n",
       "      <td>...</td>\n",
       "      <td>...</td>\n",
       "      <td>...</td>\n",
       "      <td>...</td>\n",
       "      <td>...</td>\n",
       "    </tr>\n",
       "    <tr>\n",
       "      <th>441633</th>\n",
       "      <td>579962677</td>\n",
       "      <td>1</td>\n",
       "      <td>1634.38</td>\n",
       "      <td>0</td>\n",
       "      <td>5</td>\n",
       "      <td>4</td>\n",
       "      <td>5</td>\n",
       "      <td>Champions</td>\n",
       "      <td>545</td>\n",
       "    </tr>\n",
       "    <tr>\n",
       "      <th>441634</th>\n",
       "      <td>579963523</td>\n",
       "      <td>1</td>\n",
       "      <td>457.91</td>\n",
       "      <td>0</td>\n",
       "      <td>5</td>\n",
       "      <td>4</td>\n",
       "      <td>4</td>\n",
       "      <td>Champions</td>\n",
       "      <td>544</td>\n",
       "    </tr>\n",
       "    <tr>\n",
       "      <th>441635</th>\n",
       "      <td>579964521</td>\n",
       "      <td>1</td>\n",
       "      <td>334.60</td>\n",
       "      <td>0</td>\n",
       "      <td>5</td>\n",
       "      <td>4</td>\n",
       "      <td>3</td>\n",
       "      <td>Loyal</td>\n",
       "      <td>543</td>\n",
       "    </tr>\n",
       "    <tr>\n",
       "      <th>441636</th>\n",
       "      <td>579966375</td>\n",
       "      <td>1</td>\n",
       "      <td>124.11</td>\n",
       "      <td>0</td>\n",
       "      <td>5</td>\n",
       "      <td>4</td>\n",
       "      <td>2</td>\n",
       "      <td>Potential Loyalist</td>\n",
       "      <td>542</td>\n",
       "    </tr>\n",
       "    <tr>\n",
       "      <th>441637</th>\n",
       "      <td>579967058</td>\n",
       "      <td>1</td>\n",
       "      <td>124.11</td>\n",
       "      <td>0</td>\n",
       "      <td>5</td>\n",
       "      <td>4</td>\n",
       "      <td>2</td>\n",
       "      <td>Potential Loyalist</td>\n",
       "      <td>542</td>\n",
       "    </tr>\n",
       "  </tbody>\n",
       "</table>\n",
       "<p>441638 rows × 9 columns</p>\n",
       "</div>"
      ],
      "text/plain": [
       "          user_id  frequency  monetary  recency  R_score  F_score  M_score  \\\n",
       "0       138340325          1     93.50       20        2        4        2   \n",
       "1       225644257          1     40.91       19        2        4        1   \n",
       "2       253299396          1    246.85       25        1        4        3   \n",
       "3       256164170          1    113.23       11        4        4        2   \n",
       "4       267316896          1    189.71       17        2        4        3   \n",
       "...           ...        ...       ...      ...      ...      ...      ...   \n",
       "441633  579962677          1   1634.38        0        5        4        5   \n",
       "441634  579963523          1    457.91        0        5        4        4   \n",
       "441635  579964521          1    334.60        0        5        4        3   \n",
       "441636  579966375          1    124.11        0        5        4        2   \n",
       "441637  579967058          1    124.11        0        5        4        2   \n",
       "\n",
       "               RFM_Segment  RFM_Score  \n",
       "0                  At Risk        242  \n",
       "1           About To Sleep        241  \n",
       "2                  At Risk        143  \n",
       "3       Potential Loyalist        442  \n",
       "4                  At Risk        243  \n",
       "...                    ...        ...  \n",
       "441633           Champions        545  \n",
       "441634           Champions        544  \n",
       "441635               Loyal        543  \n",
       "441636  Potential Loyalist        542  \n",
       "441637  Potential Loyalist        542  \n",
       "\n",
       "[441638 rows x 9 columns]"
      ]
     },
     "execution_count": 141,
     "metadata": {},
     "output_type": "execute_result"
    }
   ],
   "source": [
    "customer_features['RFM_Segment'] = 'Other'  # Default label for rows not matching any segment\n",
    "\n",
    "# Champions\n",
    "customer_features.loc[customer_features['RFM_Score'].isin([555, 554, 544, 545, 454, 455, 445]), 'RFM_Segment'] = 'Champions'\n",
    "\n",
    "# Loyal\n",
    "customer_features.loc[customer_features['RFM_Score'].isin([543, 444, 435, 355, 354, 345, 344, 335]), 'RFM_Segment'] = 'Loyal'\n",
    "\n",
    "# Potential Loyalist\n",
    "customer_features.loc[customer_features['RFM_Score'].isin([553, 551, 552, 541, 542, 533, 532, 531, 452, 451\n",
    "                                                 , 442, 441, 431, 453, 433, 432, 423, 353, 352\n",
    "                                                 , 351, 342, 341, 333, 323]), 'RFM_Segment'] = 'Potential Loyalist'\n",
    "\n",
    "# Promising\n",
    "customer_features.loc[customer_features['RFM_Score'].isin([525, 524, 523, 522, 521, 515, 514, 513\n",
    "                                                 , 425, 424, 413, 414, 415, 315, 314, 313]), 'RFM_Segment'] = 'Promising'\n",
    "\n",
    "# New Customers\n",
    "customer_features.loc[customer_features['RFM_Score'].isin([512, 511, 422, 421, 412, 411, 311]), 'RFM_Segment'] = 'New Customers'\n",
    "\n",
    "# Need Attention\n",
    "customer_features.loc[customer_features['RFM_Score'].isin([535, 534, 443, 434, 343, 334, 325, 324]), 'RFM_Segment'] = 'Need Attention'\n",
    "\n",
    "# About To Sleep\n",
    "customer_features.loc[customer_features['RFM_Score'].isin([331, 321, 312, 221, 213, 231, 241, 251]), 'RFM_Segment'] = 'About To Sleep'\n",
    "\n",
    "# At Risk\n",
    "customer_features.loc[customer_features['RFM_Score'].isin([255, 254, 245, 244, 253, 252, 243, 242, 235\n",
    "                                                 , 234, 225, 224, 153, 152, 145, 143, 142\n",
    "                                                 , 135, 134, 133, 125, 124]), 'RFM_Segment'] = 'At Risk'\n",
    "\n",
    "# Cannot Lose Them\n",
    "customer_features.loc[customer_features['RFM_Score'].isin([155, 154, 144, 214, 215, 115, 114, 113]), 'RFM_Segment'] = 'Cannot Lose Them'\n",
    "\n",
    "# Hibernating customers\n",
    "customer_features.loc[customer_features['RFM_Score'].isin([332, 322, 233, 232, 223, 222, 132, 123, 122, 212, 211]), 'RFM_Segment'] = 'Hibernating customers'\n",
    "\n",
    "# Lost customers\n",
    "customer_features.loc[customer_features['RFM_Score'].isin([111, 112, 121, 131, 141, 151]), 'RFM_Segment'] = 'Lost customers'\n",
    "\n",
    "# Display the DataFrame with the new RFM_Segment column\n",
    "customer_features"
   ]
  },
  {
   "cell_type": "code",
   "execution_count": null,
   "metadata": {},
   "outputs": [
    {
     "data": {
      "text/html": [
       "<div>\n",
       "<style scoped>\n",
       "    .dataframe tbody tr th:only-of-type {\n",
       "        vertical-align: middle;\n",
       "    }\n",
       "\n",
       "    .dataframe tbody tr th {\n",
       "        vertical-align: top;\n",
       "    }\n",
       "\n",
       "    .dataframe thead th {\n",
       "        text-align: right;\n",
       "    }\n",
       "</style>\n",
       "<table border=\"1\" class=\"dataframe\">\n",
       "  <thead>\n",
       "    <tr style=\"text-align: right;\">\n",
       "      <th></th>\n",
       "      <th>RFM_Segment</th>\n",
       "      <th>count_cus</th>\n",
       "      <th>total_rev</th>\n",
       "    </tr>\n",
       "  </thead>\n",
       "  <tbody>\n",
       "    <tr>\n",
       "      <th>0</th>\n",
       "      <td>About To Sleep</td>\n",
       "      <td>16726</td>\n",
       "      <td>7.529834e+05</td>\n",
       "    </tr>\n",
       "    <tr>\n",
       "      <th>1</th>\n",
       "      <td>At Risk</td>\n",
       "      <td>111600</td>\n",
       "      <td>5.902785e+07</td>\n",
       "    </tr>\n",
       "    <tr>\n",
       "      <th>2</th>\n",
       "      <td>Cannot Lose Them</td>\n",
       "      <td>18729</td>\n",
       "      <td>1.648202e+07</td>\n",
       "    </tr>\n",
       "    <tr>\n",
       "      <th>3</th>\n",
       "      <td>Champions</td>\n",
       "      <td>69872</td>\n",
       "      <td>1.304129e+08</td>\n",
       "    </tr>\n",
       "    <tr>\n",
       "      <th>4</th>\n",
       "      <td>Lost customers</td>\n",
       "      <td>23996</td>\n",
       "      <td>1.076093e+06</td>\n",
       "    </tr>\n",
       "    <tr>\n",
       "      <th>5</th>\n",
       "      <td>Loyal</td>\n",
       "      <td>63094</td>\n",
       "      <td>4.888711e+07</td>\n",
       "    </tr>\n",
       "    <tr>\n",
       "      <th>6</th>\n",
       "      <td>Need Attention</td>\n",
       "      <td>32648</td>\n",
       "      <td>8.124903e+06</td>\n",
       "    </tr>\n",
       "    <tr>\n",
       "      <th>7</th>\n",
       "      <td>Potential Loyalist</td>\n",
       "      <td>104973</td>\n",
       "      <td>1.043103e+07</td>\n",
       "    </tr>\n",
       "  </tbody>\n",
       "</table>\n",
       "</div>"
      ],
      "text/plain": [
       "          RFM_Segment  count_cus     total_rev\n",
       "0      About To Sleep      16726  7.529834e+05\n",
       "1             At Risk     111600  5.902785e+07\n",
       "2    Cannot Lose Them      18729  1.648202e+07\n",
       "3           Champions      69872  1.304129e+08\n",
       "4      Lost customers      23996  1.076093e+06\n",
       "5               Loyal      63094  4.888711e+07\n",
       "6      Need Attention      32648  8.124903e+06\n",
       "7  Potential Loyalist     104973  1.043103e+07"
      ]
     },
     "execution_count": 143,
     "metadata": {},
     "output_type": "execute_result"
    }
   ],
   "source": [
    "treemap_input = customer_features.groupby(by = 'RFM_Segment',as_index=False).agg(count_cus = ('user_id','nunique')\n",
    "                                                                            ,total_rev = ('monetary','sum'))\n",
    "treemap_input"
   ]
  },
  {
   "cell_type": "code",
   "execution_count": null,
   "metadata": {},
   "outputs": [
    {
     "data": {
      "application/vnd.plotly.v1+json": {
       "config": {
        "plotlyServerURL": "https://plot.ly"
       },
       "data": [
        {
         "branchvalues": "total",
         "domain": {
          "x": [
           0,
           1
          ],
          "y": [
           0,
           1
          ]
         },
         "hovertemplate": "labels=%{label}<br>count_cus=%{value}<br>parent=%{parent}<br>id=%{id}<extra></extra>",
         "ids": [
          "About To Sleep",
          "At Risk",
          "Cannot Lose Them",
          "Champions",
          "Lost customers",
          "Loyal",
          "Need Attention",
          "Potential Loyalist"
         ],
         "labels": [
          "About To Sleep",
          "At Risk",
          "Cannot Lose Them",
          "Champions",
          "Lost customers",
          "Loyal",
          "Need Attention",
          "Potential Loyalist"
         ],
         "name": "",
         "parents": [
          "",
          "",
          "",
          "",
          "",
          "",
          "",
          ""
         ],
         "type": "treemap",
         "values": [
          16726,
          111600,
          18729,
          69872,
          23996,
          63094,
          32648,
          104973
         ]
        }
       ],
       "layout": {
        "legend": {
         "tracegroupgap": 0
        },
        "template": {
         "data": {
          "bar": [
           {
            "error_x": {
             "color": "#2a3f5f"
            },
            "error_y": {
             "color": "#2a3f5f"
            },
            "marker": {
             "line": {
              "color": "#E5ECF6",
              "width": 0.5
             },
             "pattern": {
              "fillmode": "overlay",
              "size": 10,
              "solidity": 0.2
             }
            },
            "type": "bar"
           }
          ],
          "barpolar": [
           {
            "marker": {
             "line": {
              "color": "#E5ECF6",
              "width": 0.5
             },
             "pattern": {
              "fillmode": "overlay",
              "size": 10,
              "solidity": 0.2
             }
            },
            "type": "barpolar"
           }
          ],
          "carpet": [
           {
            "aaxis": {
             "endlinecolor": "#2a3f5f",
             "gridcolor": "white",
             "linecolor": "white",
             "minorgridcolor": "white",
             "startlinecolor": "#2a3f5f"
            },
            "baxis": {
             "endlinecolor": "#2a3f5f",
             "gridcolor": "white",
             "linecolor": "white",
             "minorgridcolor": "white",
             "startlinecolor": "#2a3f5f"
            },
            "type": "carpet"
           }
          ],
          "choropleth": [
           {
            "colorbar": {
             "outlinewidth": 0,
             "ticks": ""
            },
            "type": "choropleth"
           }
          ],
          "contour": [
           {
            "colorbar": {
             "outlinewidth": 0,
             "ticks": ""
            },
            "colorscale": [
             [
              0,
              "#0d0887"
             ],
             [
              0.1111111111111111,
              "#46039f"
             ],
             [
              0.2222222222222222,
              "#7201a8"
             ],
             [
              0.3333333333333333,
              "#9c179e"
             ],
             [
              0.4444444444444444,
              "#bd3786"
             ],
             [
              0.5555555555555556,
              "#d8576b"
             ],
             [
              0.6666666666666666,
              "#ed7953"
             ],
             [
              0.7777777777777778,
              "#fb9f3a"
             ],
             [
              0.8888888888888888,
              "#fdca26"
             ],
             [
              1,
              "#f0f921"
             ]
            ],
            "type": "contour"
           }
          ],
          "contourcarpet": [
           {
            "colorbar": {
             "outlinewidth": 0,
             "ticks": ""
            },
            "type": "contourcarpet"
           }
          ],
          "heatmap": [
           {
            "colorbar": {
             "outlinewidth": 0,
             "ticks": ""
            },
            "colorscale": [
             [
              0,
              "#0d0887"
             ],
             [
              0.1111111111111111,
              "#46039f"
             ],
             [
              0.2222222222222222,
              "#7201a8"
             ],
             [
              0.3333333333333333,
              "#9c179e"
             ],
             [
              0.4444444444444444,
              "#bd3786"
             ],
             [
              0.5555555555555556,
              "#d8576b"
             ],
             [
              0.6666666666666666,
              "#ed7953"
             ],
             [
              0.7777777777777778,
              "#fb9f3a"
             ],
             [
              0.8888888888888888,
              "#fdca26"
             ],
             [
              1,
              "#f0f921"
             ]
            ],
            "type": "heatmap"
           }
          ],
          "heatmapgl": [
           {
            "colorbar": {
             "outlinewidth": 0,
             "ticks": ""
            },
            "colorscale": [
             [
              0,
              "#0d0887"
             ],
             [
              0.1111111111111111,
              "#46039f"
             ],
             [
              0.2222222222222222,
              "#7201a8"
             ],
             [
              0.3333333333333333,
              "#9c179e"
             ],
             [
              0.4444444444444444,
              "#bd3786"
             ],
             [
              0.5555555555555556,
              "#d8576b"
             ],
             [
              0.6666666666666666,
              "#ed7953"
             ],
             [
              0.7777777777777778,
              "#fb9f3a"
             ],
             [
              0.8888888888888888,
              "#fdca26"
             ],
             [
              1,
              "#f0f921"
             ]
            ],
            "type": "heatmapgl"
           }
          ],
          "histogram": [
           {
            "marker": {
             "pattern": {
              "fillmode": "overlay",
              "size": 10,
              "solidity": 0.2
             }
            },
            "type": "histogram"
           }
          ],
          "histogram2d": [
           {
            "colorbar": {
             "outlinewidth": 0,
             "ticks": ""
            },
            "colorscale": [
             [
              0,
              "#0d0887"
             ],
             [
              0.1111111111111111,
              "#46039f"
             ],
             [
              0.2222222222222222,
              "#7201a8"
             ],
             [
              0.3333333333333333,
              "#9c179e"
             ],
             [
              0.4444444444444444,
              "#bd3786"
             ],
             [
              0.5555555555555556,
              "#d8576b"
             ],
             [
              0.6666666666666666,
              "#ed7953"
             ],
             [
              0.7777777777777778,
              "#fb9f3a"
             ],
             [
              0.8888888888888888,
              "#fdca26"
             ],
             [
              1,
              "#f0f921"
             ]
            ],
            "type": "histogram2d"
           }
          ],
          "histogram2dcontour": [
           {
            "colorbar": {
             "outlinewidth": 0,
             "ticks": ""
            },
            "colorscale": [
             [
              0,
              "#0d0887"
             ],
             [
              0.1111111111111111,
              "#46039f"
             ],
             [
              0.2222222222222222,
              "#7201a8"
             ],
             [
              0.3333333333333333,
              "#9c179e"
             ],
             [
              0.4444444444444444,
              "#bd3786"
             ],
             [
              0.5555555555555556,
              "#d8576b"
             ],
             [
              0.6666666666666666,
              "#ed7953"
             ],
             [
              0.7777777777777778,
              "#fb9f3a"
             ],
             [
              0.8888888888888888,
              "#fdca26"
             ],
             [
              1,
              "#f0f921"
             ]
            ],
            "type": "histogram2dcontour"
           }
          ],
          "mesh3d": [
           {
            "colorbar": {
             "outlinewidth": 0,
             "ticks": ""
            },
            "type": "mesh3d"
           }
          ],
          "parcoords": [
           {
            "line": {
             "colorbar": {
              "outlinewidth": 0,
              "ticks": ""
             }
            },
            "type": "parcoords"
           }
          ],
          "pie": [
           {
            "automargin": true,
            "type": "pie"
           }
          ],
          "scatter": [
           {
            "fillpattern": {
             "fillmode": "overlay",
             "size": 10,
             "solidity": 0.2
            },
            "type": "scatter"
           }
          ],
          "scatter3d": [
           {
            "line": {
             "colorbar": {
              "outlinewidth": 0,
              "ticks": ""
             }
            },
            "marker": {
             "colorbar": {
              "outlinewidth": 0,
              "ticks": ""
             }
            },
            "type": "scatter3d"
           }
          ],
          "scattercarpet": [
           {
            "marker": {
             "colorbar": {
              "outlinewidth": 0,
              "ticks": ""
             }
            },
            "type": "scattercarpet"
           }
          ],
          "scattergeo": [
           {
            "marker": {
             "colorbar": {
              "outlinewidth": 0,
              "ticks": ""
             }
            },
            "type": "scattergeo"
           }
          ],
          "scattergl": [
           {
            "marker": {
             "colorbar": {
              "outlinewidth": 0,
              "ticks": ""
             }
            },
            "type": "scattergl"
           }
          ],
          "scattermapbox": [
           {
            "marker": {
             "colorbar": {
              "outlinewidth": 0,
              "ticks": ""
             }
            },
            "type": "scattermapbox"
           }
          ],
          "scatterpolar": [
           {
            "marker": {
             "colorbar": {
              "outlinewidth": 0,
              "ticks": ""
             }
            },
            "type": "scatterpolar"
           }
          ],
          "scatterpolargl": [
           {
            "marker": {
             "colorbar": {
              "outlinewidth": 0,
              "ticks": ""
             }
            },
            "type": "scatterpolargl"
           }
          ],
          "scatterternary": [
           {
            "marker": {
             "colorbar": {
              "outlinewidth": 0,
              "ticks": ""
             }
            },
            "type": "scatterternary"
           }
          ],
          "surface": [
           {
            "colorbar": {
             "outlinewidth": 0,
             "ticks": ""
            },
            "colorscale": [
             [
              0,
              "#0d0887"
             ],
             [
              0.1111111111111111,
              "#46039f"
             ],
             [
              0.2222222222222222,
              "#7201a8"
             ],
             [
              0.3333333333333333,
              "#9c179e"
             ],
             [
              0.4444444444444444,
              "#bd3786"
             ],
             [
              0.5555555555555556,
              "#d8576b"
             ],
             [
              0.6666666666666666,
              "#ed7953"
             ],
             [
              0.7777777777777778,
              "#fb9f3a"
             ],
             [
              0.8888888888888888,
              "#fdca26"
             ],
             [
              1,
              "#f0f921"
             ]
            ],
            "type": "surface"
           }
          ],
          "table": [
           {
            "cells": {
             "fill": {
              "color": "#EBF0F8"
             },
             "line": {
              "color": "white"
             }
            },
            "header": {
             "fill": {
              "color": "#C8D4E3"
             },
             "line": {
              "color": "white"
             }
            },
            "type": "table"
           }
          ]
         },
         "layout": {
          "annotationdefaults": {
           "arrowcolor": "#2a3f5f",
           "arrowhead": 0,
           "arrowwidth": 1
          },
          "autotypenumbers": "strict",
          "coloraxis": {
           "colorbar": {
            "outlinewidth": 0,
            "ticks": ""
           }
          },
          "colorscale": {
           "diverging": [
            [
             0,
             "#8e0152"
            ],
            [
             0.1,
             "#c51b7d"
            ],
            [
             0.2,
             "#de77ae"
            ],
            [
             0.3,
             "#f1b6da"
            ],
            [
             0.4,
             "#fde0ef"
            ],
            [
             0.5,
             "#f7f7f7"
            ],
            [
             0.6,
             "#e6f5d0"
            ],
            [
             0.7,
             "#b8e186"
            ],
            [
             0.8,
             "#7fbc41"
            ],
            [
             0.9,
             "#4d9221"
            ],
            [
             1,
             "#276419"
            ]
           ],
           "sequential": [
            [
             0,
             "#0d0887"
            ],
            [
             0.1111111111111111,
             "#46039f"
            ],
            [
             0.2222222222222222,
             "#7201a8"
            ],
            [
             0.3333333333333333,
             "#9c179e"
            ],
            [
             0.4444444444444444,
             "#bd3786"
            ],
            [
             0.5555555555555556,
             "#d8576b"
            ],
            [
             0.6666666666666666,
             "#ed7953"
            ],
            [
             0.7777777777777778,
             "#fb9f3a"
            ],
            [
             0.8888888888888888,
             "#fdca26"
            ],
            [
             1,
             "#f0f921"
            ]
           ],
           "sequentialminus": [
            [
             0,
             "#0d0887"
            ],
            [
             0.1111111111111111,
             "#46039f"
            ],
            [
             0.2222222222222222,
             "#7201a8"
            ],
            [
             0.3333333333333333,
             "#9c179e"
            ],
            [
             0.4444444444444444,
             "#bd3786"
            ],
            [
             0.5555555555555556,
             "#d8576b"
            ],
            [
             0.6666666666666666,
             "#ed7953"
            ],
            [
             0.7777777777777778,
             "#fb9f3a"
            ],
            [
             0.8888888888888888,
             "#fdca26"
            ],
            [
             1,
             "#f0f921"
            ]
           ]
          },
          "colorway": [
           "#636efa",
           "#EF553B",
           "#00cc96",
           "#ab63fa",
           "#FFA15A",
           "#19d3f3",
           "#FF6692",
           "#B6E880",
           "#FF97FF",
           "#FECB52"
          ],
          "font": {
           "color": "#2a3f5f"
          },
          "geo": {
           "bgcolor": "white",
           "lakecolor": "white",
           "landcolor": "#E5ECF6",
           "showlakes": true,
           "showland": true,
           "subunitcolor": "white"
          },
          "hoverlabel": {
           "align": "left"
          },
          "hovermode": "closest",
          "mapbox": {
           "style": "light"
          },
          "paper_bgcolor": "white",
          "plot_bgcolor": "#E5ECF6",
          "polar": {
           "angularaxis": {
            "gridcolor": "white",
            "linecolor": "white",
            "ticks": ""
           },
           "bgcolor": "#E5ECF6",
           "radialaxis": {
            "gridcolor": "white",
            "linecolor": "white",
            "ticks": ""
           }
          },
          "scene": {
           "xaxis": {
            "backgroundcolor": "#E5ECF6",
            "gridcolor": "white",
            "gridwidth": 2,
            "linecolor": "white",
            "showbackground": true,
            "ticks": "",
            "zerolinecolor": "white"
           },
           "yaxis": {
            "backgroundcolor": "#E5ECF6",
            "gridcolor": "white",
            "gridwidth": 2,
            "linecolor": "white",
            "showbackground": true,
            "ticks": "",
            "zerolinecolor": "white"
           },
           "zaxis": {
            "backgroundcolor": "#E5ECF6",
            "gridcolor": "white",
            "gridwidth": 2,
            "linecolor": "white",
            "showbackground": true,
            "ticks": "",
            "zerolinecolor": "white"
           }
          },
          "shapedefaults": {
           "line": {
            "color": "#2a3f5f"
           }
          },
          "ternary": {
           "aaxis": {
            "gridcolor": "white",
            "linecolor": "white",
            "ticks": ""
           },
           "baxis": {
            "gridcolor": "white",
            "linecolor": "white",
            "ticks": ""
           },
           "bgcolor": "#E5ECF6",
           "caxis": {
            "gridcolor": "white",
            "linecolor": "white",
            "ticks": ""
           }
          },
          "title": {
           "x": 0.05
          },
          "xaxis": {
           "automargin": true,
           "gridcolor": "white",
           "linecolor": "white",
           "ticks": "",
           "title": {
            "standoff": 15
           },
           "zerolinecolor": "white",
           "zerolinewidth": 2
          },
          "yaxis": {
           "automargin": true,
           "gridcolor": "white",
           "linecolor": "white",
           "ticks": "",
           "title": {
            "standoff": 15
           },
           "zerolinecolor": "white",
           "zerolinewidth": 2
          }
         }
        },
        "title": {
         "text": "RFM Segments - Customer Count Treemap"
        }
       }
      }
     },
     "metadata": {},
     "output_type": "display_data"
    },
    {
     "data": {
      "application/vnd.plotly.v1+json": {
       "config": {
        "plotlyServerURL": "https://plot.ly"
       },
       "data": [
        {
         "branchvalues": "total",
         "domain": {
          "x": [
           0,
           1
          ],
          "y": [
           0,
           1
          ]
         },
         "hovertemplate": "labels=%{label}<br>total_rev=%{value}<br>parent=%{parent}<br>id=%{id}<extra></extra>",
         "ids": [
          "About To Sleep",
          "At Risk",
          "Cannot Lose Them",
          "Champions",
          "Lost customers",
          "Loyal",
          "Need Attention",
          "Potential Loyalist"
         ],
         "labels": [
          "About To Sleep",
          "At Risk",
          "Cannot Lose Them",
          "Champions",
          "Lost customers",
          "Loyal",
          "Need Attention",
          "Potential Loyalist"
         ],
         "name": "",
         "parents": [
          "",
          "",
          "",
          "",
          "",
          "",
          "",
          ""
         ],
         "type": "treemap",
         "values": [
          752983.36,
          59027851,
          16482018.87,
          130412895.83,
          1076093.47,
          48887114.23,
          8124903.03,
          10431030.709999999
         ]
        }
       ],
       "layout": {
        "legend": {
         "tracegroupgap": 0
        },
        "template": {
         "data": {
          "bar": [
           {
            "error_x": {
             "color": "#2a3f5f"
            },
            "error_y": {
             "color": "#2a3f5f"
            },
            "marker": {
             "line": {
              "color": "#E5ECF6",
              "width": 0.5
             },
             "pattern": {
              "fillmode": "overlay",
              "size": 10,
              "solidity": 0.2
             }
            },
            "type": "bar"
           }
          ],
          "barpolar": [
           {
            "marker": {
             "line": {
              "color": "#E5ECF6",
              "width": 0.5
             },
             "pattern": {
              "fillmode": "overlay",
              "size": 10,
              "solidity": 0.2
             }
            },
            "type": "barpolar"
           }
          ],
          "carpet": [
           {
            "aaxis": {
             "endlinecolor": "#2a3f5f",
             "gridcolor": "white",
             "linecolor": "white",
             "minorgridcolor": "white",
             "startlinecolor": "#2a3f5f"
            },
            "baxis": {
             "endlinecolor": "#2a3f5f",
             "gridcolor": "white",
             "linecolor": "white",
             "minorgridcolor": "white",
             "startlinecolor": "#2a3f5f"
            },
            "type": "carpet"
           }
          ],
          "choropleth": [
           {
            "colorbar": {
             "outlinewidth": 0,
             "ticks": ""
            },
            "type": "choropleth"
           }
          ],
          "contour": [
           {
            "colorbar": {
             "outlinewidth": 0,
             "ticks": ""
            },
            "colorscale": [
             [
              0,
              "#0d0887"
             ],
             [
              0.1111111111111111,
              "#46039f"
             ],
             [
              0.2222222222222222,
              "#7201a8"
             ],
             [
              0.3333333333333333,
              "#9c179e"
             ],
             [
              0.4444444444444444,
              "#bd3786"
             ],
             [
              0.5555555555555556,
              "#d8576b"
             ],
             [
              0.6666666666666666,
              "#ed7953"
             ],
             [
              0.7777777777777778,
              "#fb9f3a"
             ],
             [
              0.8888888888888888,
              "#fdca26"
             ],
             [
              1,
              "#f0f921"
             ]
            ],
            "type": "contour"
           }
          ],
          "contourcarpet": [
           {
            "colorbar": {
             "outlinewidth": 0,
             "ticks": ""
            },
            "type": "contourcarpet"
           }
          ],
          "heatmap": [
           {
            "colorbar": {
             "outlinewidth": 0,
             "ticks": ""
            },
            "colorscale": [
             [
              0,
              "#0d0887"
             ],
             [
              0.1111111111111111,
              "#46039f"
             ],
             [
              0.2222222222222222,
              "#7201a8"
             ],
             [
              0.3333333333333333,
              "#9c179e"
             ],
             [
              0.4444444444444444,
              "#bd3786"
             ],
             [
              0.5555555555555556,
              "#d8576b"
             ],
             [
              0.6666666666666666,
              "#ed7953"
             ],
             [
              0.7777777777777778,
              "#fb9f3a"
             ],
             [
              0.8888888888888888,
              "#fdca26"
             ],
             [
              1,
              "#f0f921"
             ]
            ],
            "type": "heatmap"
           }
          ],
          "heatmapgl": [
           {
            "colorbar": {
             "outlinewidth": 0,
             "ticks": ""
            },
            "colorscale": [
             [
              0,
              "#0d0887"
             ],
             [
              0.1111111111111111,
              "#46039f"
             ],
             [
              0.2222222222222222,
              "#7201a8"
             ],
             [
              0.3333333333333333,
              "#9c179e"
             ],
             [
              0.4444444444444444,
              "#bd3786"
             ],
             [
              0.5555555555555556,
              "#d8576b"
             ],
             [
              0.6666666666666666,
              "#ed7953"
             ],
             [
              0.7777777777777778,
              "#fb9f3a"
             ],
             [
              0.8888888888888888,
              "#fdca26"
             ],
             [
              1,
              "#f0f921"
             ]
            ],
            "type": "heatmapgl"
           }
          ],
          "histogram": [
           {
            "marker": {
             "pattern": {
              "fillmode": "overlay",
              "size": 10,
              "solidity": 0.2
             }
            },
            "type": "histogram"
           }
          ],
          "histogram2d": [
           {
            "colorbar": {
             "outlinewidth": 0,
             "ticks": ""
            },
            "colorscale": [
             [
              0,
              "#0d0887"
             ],
             [
              0.1111111111111111,
              "#46039f"
             ],
             [
              0.2222222222222222,
              "#7201a8"
             ],
             [
              0.3333333333333333,
              "#9c179e"
             ],
             [
              0.4444444444444444,
              "#bd3786"
             ],
             [
              0.5555555555555556,
              "#d8576b"
             ],
             [
              0.6666666666666666,
              "#ed7953"
             ],
             [
              0.7777777777777778,
              "#fb9f3a"
             ],
             [
              0.8888888888888888,
              "#fdca26"
             ],
             [
              1,
              "#f0f921"
             ]
            ],
            "type": "histogram2d"
           }
          ],
          "histogram2dcontour": [
           {
            "colorbar": {
             "outlinewidth": 0,
             "ticks": ""
            },
            "colorscale": [
             [
              0,
              "#0d0887"
             ],
             [
              0.1111111111111111,
              "#46039f"
             ],
             [
              0.2222222222222222,
              "#7201a8"
             ],
             [
              0.3333333333333333,
              "#9c179e"
             ],
             [
              0.4444444444444444,
              "#bd3786"
             ],
             [
              0.5555555555555556,
              "#d8576b"
             ],
             [
              0.6666666666666666,
              "#ed7953"
             ],
             [
              0.7777777777777778,
              "#fb9f3a"
             ],
             [
              0.8888888888888888,
              "#fdca26"
             ],
             [
              1,
              "#f0f921"
             ]
            ],
            "type": "histogram2dcontour"
           }
          ],
          "mesh3d": [
           {
            "colorbar": {
             "outlinewidth": 0,
             "ticks": ""
            },
            "type": "mesh3d"
           }
          ],
          "parcoords": [
           {
            "line": {
             "colorbar": {
              "outlinewidth": 0,
              "ticks": ""
             }
            },
            "type": "parcoords"
           }
          ],
          "pie": [
           {
            "automargin": true,
            "type": "pie"
           }
          ],
          "scatter": [
           {
            "fillpattern": {
             "fillmode": "overlay",
             "size": 10,
             "solidity": 0.2
            },
            "type": "scatter"
           }
          ],
          "scatter3d": [
           {
            "line": {
             "colorbar": {
              "outlinewidth": 0,
              "ticks": ""
             }
            },
            "marker": {
             "colorbar": {
              "outlinewidth": 0,
              "ticks": ""
             }
            },
            "type": "scatter3d"
           }
          ],
          "scattercarpet": [
           {
            "marker": {
             "colorbar": {
              "outlinewidth": 0,
              "ticks": ""
             }
            },
            "type": "scattercarpet"
           }
          ],
          "scattergeo": [
           {
            "marker": {
             "colorbar": {
              "outlinewidth": 0,
              "ticks": ""
             }
            },
            "type": "scattergeo"
           }
          ],
          "scattergl": [
           {
            "marker": {
             "colorbar": {
              "outlinewidth": 0,
              "ticks": ""
             }
            },
            "type": "scattergl"
           }
          ],
          "scattermapbox": [
           {
            "marker": {
             "colorbar": {
              "outlinewidth": 0,
              "ticks": ""
             }
            },
            "type": "scattermapbox"
           }
          ],
          "scatterpolar": [
           {
            "marker": {
             "colorbar": {
              "outlinewidth": 0,
              "ticks": ""
             }
            },
            "type": "scatterpolar"
           }
          ],
          "scatterpolargl": [
           {
            "marker": {
             "colorbar": {
              "outlinewidth": 0,
              "ticks": ""
             }
            },
            "type": "scatterpolargl"
           }
          ],
          "scatterternary": [
           {
            "marker": {
             "colorbar": {
              "outlinewidth": 0,
              "ticks": ""
             }
            },
            "type": "scatterternary"
           }
          ],
          "surface": [
           {
            "colorbar": {
             "outlinewidth": 0,
             "ticks": ""
            },
            "colorscale": [
             [
              0,
              "#0d0887"
             ],
             [
              0.1111111111111111,
              "#46039f"
             ],
             [
              0.2222222222222222,
              "#7201a8"
             ],
             [
              0.3333333333333333,
              "#9c179e"
             ],
             [
              0.4444444444444444,
              "#bd3786"
             ],
             [
              0.5555555555555556,
              "#d8576b"
             ],
             [
              0.6666666666666666,
              "#ed7953"
             ],
             [
              0.7777777777777778,
              "#fb9f3a"
             ],
             [
              0.8888888888888888,
              "#fdca26"
             ],
             [
              1,
              "#f0f921"
             ]
            ],
            "type": "surface"
           }
          ],
          "table": [
           {
            "cells": {
             "fill": {
              "color": "#EBF0F8"
             },
             "line": {
              "color": "white"
             }
            },
            "header": {
             "fill": {
              "color": "#C8D4E3"
             },
             "line": {
              "color": "white"
             }
            },
            "type": "table"
           }
          ]
         },
         "layout": {
          "annotationdefaults": {
           "arrowcolor": "#2a3f5f",
           "arrowhead": 0,
           "arrowwidth": 1
          },
          "autotypenumbers": "strict",
          "coloraxis": {
           "colorbar": {
            "outlinewidth": 0,
            "ticks": ""
           }
          },
          "colorscale": {
           "diverging": [
            [
             0,
             "#8e0152"
            ],
            [
             0.1,
             "#c51b7d"
            ],
            [
             0.2,
             "#de77ae"
            ],
            [
             0.3,
             "#f1b6da"
            ],
            [
             0.4,
             "#fde0ef"
            ],
            [
             0.5,
             "#f7f7f7"
            ],
            [
             0.6,
             "#e6f5d0"
            ],
            [
             0.7,
             "#b8e186"
            ],
            [
             0.8,
             "#7fbc41"
            ],
            [
             0.9,
             "#4d9221"
            ],
            [
             1,
             "#276419"
            ]
           ],
           "sequential": [
            [
             0,
             "#0d0887"
            ],
            [
             0.1111111111111111,
             "#46039f"
            ],
            [
             0.2222222222222222,
             "#7201a8"
            ],
            [
             0.3333333333333333,
             "#9c179e"
            ],
            [
             0.4444444444444444,
             "#bd3786"
            ],
            [
             0.5555555555555556,
             "#d8576b"
            ],
            [
             0.6666666666666666,
             "#ed7953"
            ],
            [
             0.7777777777777778,
             "#fb9f3a"
            ],
            [
             0.8888888888888888,
             "#fdca26"
            ],
            [
             1,
             "#f0f921"
            ]
           ],
           "sequentialminus": [
            [
             0,
             "#0d0887"
            ],
            [
             0.1111111111111111,
             "#46039f"
            ],
            [
             0.2222222222222222,
             "#7201a8"
            ],
            [
             0.3333333333333333,
             "#9c179e"
            ],
            [
             0.4444444444444444,
             "#bd3786"
            ],
            [
             0.5555555555555556,
             "#d8576b"
            ],
            [
             0.6666666666666666,
             "#ed7953"
            ],
            [
             0.7777777777777778,
             "#fb9f3a"
            ],
            [
             0.8888888888888888,
             "#fdca26"
            ],
            [
             1,
             "#f0f921"
            ]
           ]
          },
          "colorway": [
           "#636efa",
           "#EF553B",
           "#00cc96",
           "#ab63fa",
           "#FFA15A",
           "#19d3f3",
           "#FF6692",
           "#B6E880",
           "#FF97FF",
           "#FECB52"
          ],
          "font": {
           "color": "#2a3f5f"
          },
          "geo": {
           "bgcolor": "white",
           "lakecolor": "white",
           "landcolor": "#E5ECF6",
           "showlakes": true,
           "showland": true,
           "subunitcolor": "white"
          },
          "hoverlabel": {
           "align": "left"
          },
          "hovermode": "closest",
          "mapbox": {
           "style": "light"
          },
          "paper_bgcolor": "white",
          "plot_bgcolor": "#E5ECF6",
          "polar": {
           "angularaxis": {
            "gridcolor": "white",
            "linecolor": "white",
            "ticks": ""
           },
           "bgcolor": "#E5ECF6",
           "radialaxis": {
            "gridcolor": "white",
            "linecolor": "white",
            "ticks": ""
           }
          },
          "scene": {
           "xaxis": {
            "backgroundcolor": "#E5ECF6",
            "gridcolor": "white",
            "gridwidth": 2,
            "linecolor": "white",
            "showbackground": true,
            "ticks": "",
            "zerolinecolor": "white"
           },
           "yaxis": {
            "backgroundcolor": "#E5ECF6",
            "gridcolor": "white",
            "gridwidth": 2,
            "linecolor": "white",
            "showbackground": true,
            "ticks": "",
            "zerolinecolor": "white"
           },
           "zaxis": {
            "backgroundcolor": "#E5ECF6",
            "gridcolor": "white",
            "gridwidth": 2,
            "linecolor": "white",
            "showbackground": true,
            "ticks": "",
            "zerolinecolor": "white"
           }
          },
          "shapedefaults": {
           "line": {
            "color": "#2a3f5f"
           }
          },
          "ternary": {
           "aaxis": {
            "gridcolor": "white",
            "linecolor": "white",
            "ticks": ""
           },
           "baxis": {
            "gridcolor": "white",
            "linecolor": "white",
            "ticks": ""
           },
           "bgcolor": "#E5ECF6",
           "caxis": {
            "gridcolor": "white",
            "linecolor": "white",
            "ticks": ""
           }
          },
          "title": {
           "x": 0.05
          },
          "xaxis": {
           "automargin": true,
           "gridcolor": "white",
           "linecolor": "white",
           "ticks": "",
           "title": {
            "standoff": 15
           },
           "zerolinecolor": "white",
           "zerolinewidth": 2
          },
          "yaxis": {
           "automargin": true,
           "gridcolor": "white",
           "linecolor": "white",
           "ticks": "",
           "title": {
            "standoff": 15
           },
           "zerolinecolor": "white",
           "zerolinewidth": 2
          }
         }
        },
        "title": {
         "text": "RFM Segments - Total Revenue Treemap"
        }
       }
      }
     },
     "metadata": {},
     "output_type": "display_data"
    }
   ],
   "source": [
    "# Create a Treemap\n",
    "fig = px.treemap(treemap_input, path=['RFM_Segment'], values='count_cus', title='RFM Segments - Customer Count Treemap')\n",
    "\n",
    "# Show the plot\n",
    "fig.show()\n",
    "\n",
    "# Create a Treemap for total revenue\n",
    "fig_rev = px.treemap(treemap_input, path=['RFM_Segment'], values='total_rev', title='RFM Segments - Total Revenue Treemap')\n",
    "\n",
    "# Show the revenue plot\n",
    "fig_rev.show()"
   ]
  },
  {
   "cell_type": "code",
   "execution_count": null,
   "metadata": {},
   "outputs": [
    {
     "data": {
      "application/vnd.plotly.v1+json": {
       "config": {
        "plotlyServerURL": "https://plot.ly"
       },
       "data": [
        {
         "domain": {
          "x": [
           0,
           0.45
          ],
          "y": [
           0,
           1
          ]
         },
         "hovertemplate": "RFM_Segment=%{label}<br>count_cus=%{value}<extra></extra>",
         "labels": [
          "About To Sleep",
          "At Risk",
          "Cannot Lose Them",
          "Champions",
          "Lost customers",
          "Loyal",
          "Need Attention",
          "Potential Loyalist"
         ],
         "legendgroup": "",
         "name": "",
         "showlegend": true,
         "textinfo": "percent",
         "type": "pie",
         "values": [
          16726,
          111600,
          18729,
          69872,
          23996,
          63094,
          32648,
          104973
         ]
        },
        {
         "domain": {
          "x": [
           0.55,
           1
          ],
          "y": [
           0,
           1
          ]
         },
         "hovertemplate": "RFM_Segment=%{label}<br>total_rev=%{value}<extra></extra>",
         "labels": [
          "About To Sleep",
          "At Risk",
          "Cannot Lose Them",
          "Champions",
          "Lost customers",
          "Loyal",
          "Need Attention",
          "Potential Loyalist"
         ],
         "legendgroup": "",
         "name": "",
         "showlegend": true,
         "textinfo": "percent",
         "type": "pie",
         "values": [
          752983.36,
          59027851,
          16482018.87,
          130412895.83,
          1076093.47,
          48887114.23,
          8124903.03,
          10431030.709999999
         ]
        }
       ],
       "layout": {
        "annotations": [
         {
          "font": {
           "size": 16
          },
          "showarrow": false,
          "text": "Customer Count",
          "x": 0.225,
          "xanchor": "center",
          "xref": "paper",
          "y": 1,
          "yanchor": "bottom",
          "yref": "paper"
         },
         {
          "font": {
           "size": 16
          },
          "showarrow": false,
          "text": "Total Revenue",
          "x": 0.775,
          "xanchor": "center",
          "xref": "paper",
          "y": 1,
          "yanchor": "bottom",
          "yref": "paper"
         }
        ],
        "template": {
         "data": {
          "bar": [
           {
            "error_x": {
             "color": "#2a3f5f"
            },
            "error_y": {
             "color": "#2a3f5f"
            },
            "marker": {
             "line": {
              "color": "#E5ECF6",
              "width": 0.5
             },
             "pattern": {
              "fillmode": "overlay",
              "size": 10,
              "solidity": 0.2
             }
            },
            "type": "bar"
           }
          ],
          "barpolar": [
           {
            "marker": {
             "line": {
              "color": "#E5ECF6",
              "width": 0.5
             },
             "pattern": {
              "fillmode": "overlay",
              "size": 10,
              "solidity": 0.2
             }
            },
            "type": "barpolar"
           }
          ],
          "carpet": [
           {
            "aaxis": {
             "endlinecolor": "#2a3f5f",
             "gridcolor": "white",
             "linecolor": "white",
             "minorgridcolor": "white",
             "startlinecolor": "#2a3f5f"
            },
            "baxis": {
             "endlinecolor": "#2a3f5f",
             "gridcolor": "white",
             "linecolor": "white",
             "minorgridcolor": "white",
             "startlinecolor": "#2a3f5f"
            },
            "type": "carpet"
           }
          ],
          "choropleth": [
           {
            "colorbar": {
             "outlinewidth": 0,
             "ticks": ""
            },
            "type": "choropleth"
           }
          ],
          "contour": [
           {
            "colorbar": {
             "outlinewidth": 0,
             "ticks": ""
            },
            "colorscale": [
             [
              0,
              "#0d0887"
             ],
             [
              0.1111111111111111,
              "#46039f"
             ],
             [
              0.2222222222222222,
              "#7201a8"
             ],
             [
              0.3333333333333333,
              "#9c179e"
             ],
             [
              0.4444444444444444,
              "#bd3786"
             ],
             [
              0.5555555555555556,
              "#d8576b"
             ],
             [
              0.6666666666666666,
              "#ed7953"
             ],
             [
              0.7777777777777778,
              "#fb9f3a"
             ],
             [
              0.8888888888888888,
              "#fdca26"
             ],
             [
              1,
              "#f0f921"
             ]
            ],
            "type": "contour"
           }
          ],
          "contourcarpet": [
           {
            "colorbar": {
             "outlinewidth": 0,
             "ticks": ""
            },
            "type": "contourcarpet"
           }
          ],
          "heatmap": [
           {
            "colorbar": {
             "outlinewidth": 0,
             "ticks": ""
            },
            "colorscale": [
             [
              0,
              "#0d0887"
             ],
             [
              0.1111111111111111,
              "#46039f"
             ],
             [
              0.2222222222222222,
              "#7201a8"
             ],
             [
              0.3333333333333333,
              "#9c179e"
             ],
             [
              0.4444444444444444,
              "#bd3786"
             ],
             [
              0.5555555555555556,
              "#d8576b"
             ],
             [
              0.6666666666666666,
              "#ed7953"
             ],
             [
              0.7777777777777778,
              "#fb9f3a"
             ],
             [
              0.8888888888888888,
              "#fdca26"
             ],
             [
              1,
              "#f0f921"
             ]
            ],
            "type": "heatmap"
           }
          ],
          "heatmapgl": [
           {
            "colorbar": {
             "outlinewidth": 0,
             "ticks": ""
            },
            "colorscale": [
             [
              0,
              "#0d0887"
             ],
             [
              0.1111111111111111,
              "#46039f"
             ],
             [
              0.2222222222222222,
              "#7201a8"
             ],
             [
              0.3333333333333333,
              "#9c179e"
             ],
             [
              0.4444444444444444,
              "#bd3786"
             ],
             [
              0.5555555555555556,
              "#d8576b"
             ],
             [
              0.6666666666666666,
              "#ed7953"
             ],
             [
              0.7777777777777778,
              "#fb9f3a"
             ],
             [
              0.8888888888888888,
              "#fdca26"
             ],
             [
              1,
              "#f0f921"
             ]
            ],
            "type": "heatmapgl"
           }
          ],
          "histogram": [
           {
            "marker": {
             "pattern": {
              "fillmode": "overlay",
              "size": 10,
              "solidity": 0.2
             }
            },
            "type": "histogram"
           }
          ],
          "histogram2d": [
           {
            "colorbar": {
             "outlinewidth": 0,
             "ticks": ""
            },
            "colorscale": [
             [
              0,
              "#0d0887"
             ],
             [
              0.1111111111111111,
              "#46039f"
             ],
             [
              0.2222222222222222,
              "#7201a8"
             ],
             [
              0.3333333333333333,
              "#9c179e"
             ],
             [
              0.4444444444444444,
              "#bd3786"
             ],
             [
              0.5555555555555556,
              "#d8576b"
             ],
             [
              0.6666666666666666,
              "#ed7953"
             ],
             [
              0.7777777777777778,
              "#fb9f3a"
             ],
             [
              0.8888888888888888,
              "#fdca26"
             ],
             [
              1,
              "#f0f921"
             ]
            ],
            "type": "histogram2d"
           }
          ],
          "histogram2dcontour": [
           {
            "colorbar": {
             "outlinewidth": 0,
             "ticks": ""
            },
            "colorscale": [
             [
              0,
              "#0d0887"
             ],
             [
              0.1111111111111111,
              "#46039f"
             ],
             [
              0.2222222222222222,
              "#7201a8"
             ],
             [
              0.3333333333333333,
              "#9c179e"
             ],
             [
              0.4444444444444444,
              "#bd3786"
             ],
             [
              0.5555555555555556,
              "#d8576b"
             ],
             [
              0.6666666666666666,
              "#ed7953"
             ],
             [
              0.7777777777777778,
              "#fb9f3a"
             ],
             [
              0.8888888888888888,
              "#fdca26"
             ],
             [
              1,
              "#f0f921"
             ]
            ],
            "type": "histogram2dcontour"
           }
          ],
          "mesh3d": [
           {
            "colorbar": {
             "outlinewidth": 0,
             "ticks": ""
            },
            "type": "mesh3d"
           }
          ],
          "parcoords": [
           {
            "line": {
             "colorbar": {
              "outlinewidth": 0,
              "ticks": ""
             }
            },
            "type": "parcoords"
           }
          ],
          "pie": [
           {
            "automargin": true,
            "type": "pie"
           }
          ],
          "scatter": [
           {
            "fillpattern": {
             "fillmode": "overlay",
             "size": 10,
             "solidity": 0.2
            },
            "type": "scatter"
           }
          ],
          "scatter3d": [
           {
            "line": {
             "colorbar": {
              "outlinewidth": 0,
              "ticks": ""
             }
            },
            "marker": {
             "colorbar": {
              "outlinewidth": 0,
              "ticks": ""
             }
            },
            "type": "scatter3d"
           }
          ],
          "scattercarpet": [
           {
            "marker": {
             "colorbar": {
              "outlinewidth": 0,
              "ticks": ""
             }
            },
            "type": "scattercarpet"
           }
          ],
          "scattergeo": [
           {
            "marker": {
             "colorbar": {
              "outlinewidth": 0,
              "ticks": ""
             }
            },
            "type": "scattergeo"
           }
          ],
          "scattergl": [
           {
            "marker": {
             "colorbar": {
              "outlinewidth": 0,
              "ticks": ""
             }
            },
            "type": "scattergl"
           }
          ],
          "scattermapbox": [
           {
            "marker": {
             "colorbar": {
              "outlinewidth": 0,
              "ticks": ""
             }
            },
            "type": "scattermapbox"
           }
          ],
          "scatterpolar": [
           {
            "marker": {
             "colorbar": {
              "outlinewidth": 0,
              "ticks": ""
             }
            },
            "type": "scatterpolar"
           }
          ],
          "scatterpolargl": [
           {
            "marker": {
             "colorbar": {
              "outlinewidth": 0,
              "ticks": ""
             }
            },
            "type": "scatterpolargl"
           }
          ],
          "scatterternary": [
           {
            "marker": {
             "colorbar": {
              "outlinewidth": 0,
              "ticks": ""
             }
            },
            "type": "scatterternary"
           }
          ],
          "surface": [
           {
            "colorbar": {
             "outlinewidth": 0,
             "ticks": ""
            },
            "colorscale": [
             [
              0,
              "#0d0887"
             ],
             [
              0.1111111111111111,
              "#46039f"
             ],
             [
              0.2222222222222222,
              "#7201a8"
             ],
             [
              0.3333333333333333,
              "#9c179e"
             ],
             [
              0.4444444444444444,
              "#bd3786"
             ],
             [
              0.5555555555555556,
              "#d8576b"
             ],
             [
              0.6666666666666666,
              "#ed7953"
             ],
             [
              0.7777777777777778,
              "#fb9f3a"
             ],
             [
              0.8888888888888888,
              "#fdca26"
             ],
             [
              1,
              "#f0f921"
             ]
            ],
            "type": "surface"
           }
          ],
          "table": [
           {
            "cells": {
             "fill": {
              "color": "#EBF0F8"
             },
             "line": {
              "color": "white"
             }
            },
            "header": {
             "fill": {
              "color": "#C8D4E3"
             },
             "line": {
              "color": "white"
             }
            },
            "type": "table"
           }
          ]
         },
         "layout": {
          "annotationdefaults": {
           "arrowcolor": "#2a3f5f",
           "arrowhead": 0,
           "arrowwidth": 1
          },
          "autotypenumbers": "strict",
          "coloraxis": {
           "colorbar": {
            "outlinewidth": 0,
            "ticks": ""
           }
          },
          "colorscale": {
           "diverging": [
            [
             0,
             "#8e0152"
            ],
            [
             0.1,
             "#c51b7d"
            ],
            [
             0.2,
             "#de77ae"
            ],
            [
             0.3,
             "#f1b6da"
            ],
            [
             0.4,
             "#fde0ef"
            ],
            [
             0.5,
             "#f7f7f7"
            ],
            [
             0.6,
             "#e6f5d0"
            ],
            [
             0.7,
             "#b8e186"
            ],
            [
             0.8,
             "#7fbc41"
            ],
            [
             0.9,
             "#4d9221"
            ],
            [
             1,
             "#276419"
            ]
           ],
           "sequential": [
            [
             0,
             "#0d0887"
            ],
            [
             0.1111111111111111,
             "#46039f"
            ],
            [
             0.2222222222222222,
             "#7201a8"
            ],
            [
             0.3333333333333333,
             "#9c179e"
            ],
            [
             0.4444444444444444,
             "#bd3786"
            ],
            [
             0.5555555555555556,
             "#d8576b"
            ],
            [
             0.6666666666666666,
             "#ed7953"
            ],
            [
             0.7777777777777778,
             "#fb9f3a"
            ],
            [
             0.8888888888888888,
             "#fdca26"
            ],
            [
             1,
             "#f0f921"
            ]
           ],
           "sequentialminus": [
            [
             0,
             "#0d0887"
            ],
            [
             0.1111111111111111,
             "#46039f"
            ],
            [
             0.2222222222222222,
             "#7201a8"
            ],
            [
             0.3333333333333333,
             "#9c179e"
            ],
            [
             0.4444444444444444,
             "#bd3786"
            ],
            [
             0.5555555555555556,
             "#d8576b"
            ],
            [
             0.6666666666666666,
             "#ed7953"
            ],
            [
             0.7777777777777778,
             "#fb9f3a"
            ],
            [
             0.8888888888888888,
             "#fdca26"
            ],
            [
             1,
             "#f0f921"
            ]
           ]
          },
          "colorway": [
           "#636efa",
           "#EF553B",
           "#00cc96",
           "#ab63fa",
           "#FFA15A",
           "#19d3f3",
           "#FF6692",
           "#B6E880",
           "#FF97FF",
           "#FECB52"
          ],
          "font": {
           "color": "#2a3f5f"
          },
          "geo": {
           "bgcolor": "white",
           "lakecolor": "white",
           "landcolor": "#E5ECF6",
           "showlakes": true,
           "showland": true,
           "subunitcolor": "white"
          },
          "hoverlabel": {
           "align": "left"
          },
          "hovermode": "closest",
          "mapbox": {
           "style": "light"
          },
          "paper_bgcolor": "white",
          "plot_bgcolor": "#E5ECF6",
          "polar": {
           "angularaxis": {
            "gridcolor": "white",
            "linecolor": "white",
            "ticks": ""
           },
           "bgcolor": "#E5ECF6",
           "radialaxis": {
            "gridcolor": "white",
            "linecolor": "white",
            "ticks": ""
           }
          },
          "scene": {
           "xaxis": {
            "backgroundcolor": "#E5ECF6",
            "gridcolor": "white",
            "gridwidth": 2,
            "linecolor": "white",
            "showbackground": true,
            "ticks": "",
            "zerolinecolor": "white"
           },
           "yaxis": {
            "backgroundcolor": "#E5ECF6",
            "gridcolor": "white",
            "gridwidth": 2,
            "linecolor": "white",
            "showbackground": true,
            "ticks": "",
            "zerolinecolor": "white"
           },
           "zaxis": {
            "backgroundcolor": "#E5ECF6",
            "gridcolor": "white",
            "gridwidth": 2,
            "linecolor": "white",
            "showbackground": true,
            "ticks": "",
            "zerolinecolor": "white"
           }
          },
          "shapedefaults": {
           "line": {
            "color": "#2a3f5f"
           }
          },
          "ternary": {
           "aaxis": {
            "gridcolor": "white",
            "linecolor": "white",
            "ticks": ""
           },
           "baxis": {
            "gridcolor": "white",
            "linecolor": "white",
            "ticks": ""
           },
           "bgcolor": "#E5ECF6",
           "caxis": {
            "gridcolor": "white",
            "linecolor": "white",
            "ticks": ""
           }
          },
          "title": {
           "x": 0.05
          },
          "xaxis": {
           "automargin": true,
           "gridcolor": "white",
           "linecolor": "white",
           "ticks": "",
           "title": {
            "standoff": 15
           },
           "zerolinecolor": "white",
           "zerolinewidth": 2
          },
          "yaxis": {
           "automargin": true,
           "gridcolor": "white",
           "linecolor": "white",
           "ticks": "",
           "title": {
            "standoff": 15
           },
           "zerolinecolor": "white",
           "zerolinewidth": 2
          }
         }
        },
        "title": {
         "text": "RFM Segments Analysis"
        }
       }
      }
     },
     "metadata": {},
     "output_type": "display_data"
    }
   ],
   "source": [
    "fig = make_subplots(rows=1, cols=2, subplot_titles=('Customer Count', 'Total Revenue'), specs=[[{'type':'domain'}, {'type':'domain'}]])\n",
    "\n",
    "# Add pie charts to subplots\n",
    "fig.add_trace(px.pie(treemap_input, names='RFM_Segment', values='count_cus').update_traces(textinfo='percent').data[0], 1, 1)\n",
    "fig.add_trace(px.pie(treemap_input, names='RFM_Segment', values='total_rev').update_traces(textinfo='percent').data[0], 1, 2)\n",
    "\n",
    "# Update layout\n",
    "fig.update_layout(title='RFM Segments Analysis')\n",
    "\n",
    "# Show the subplot\n",
    "fig.show()"
   ]
  },
  {
   "cell_type": "markdown",
   "metadata": {},
   "source": [
    "> BEST CUSTOMERS: \n",
    "\n",
    "1. The <b> Champions </b> group contains about 16% but contributed 47% Revenue. They must be reserved 🔥\n",
    "\n",
    "2. The <b> Loyal + At risk </b> group is quite good so far, they contains 40% total customers, and brought nearly the same proportion in revenue contribution (roughly 1:1). They must also be nicely protected and rewarded ✔️"
   ]
  }
 ],
 "metadata": {
  "kernelspec": {
   "display_name": "Python 3",
   "language": "python",
   "name": "python3"
  },
  "language_info": {
   "codemirror_mode": {
    "name": "ipython",
    "version": 3
   },
   "file_extension": ".py",
   "mimetype": "text/x-python",
   "name": "python",
   "nbconvert_exporter": "python",
   "pygments_lexer": "ipython3",
   "version": "3.11.7"
  }
 },
 "nbformat": 4,
 "nbformat_minor": 2
}
